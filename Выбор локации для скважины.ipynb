{
 "cells": [
  {
   "cell_type": "markdown",
   "metadata": {},
   "source": [
    "# Выбор локации для скважины"
   ]
  },
  {
   "cell_type": "markdown",
   "metadata": {},
   "source": [
    "Допустим, вы работаете в добывающей компании «ГлавРосГосНефть». Нужно решить, где бурить новую скважину.\n",
    "\n",
    "Вам предоставлены пробы нефти в трёх регионах: в каждом 10 000 месторождений, где измерили качество нефти и объём её запасов. Постройте модель машинного обучения, которая поможет определить регион, где добыча принесёт наибольшую прибыль. Проанализируйте возможную прибыль и риски техникой *Bootstrap.*\n",
    "\n",
    "Шаги для выбора локации:\n",
    "\n",
    "- В избранном регионе ищут месторождения, для каждого определяют значения признаков;\n",
    "- Строят модель и оценивают объём запасов;\n",
    "- Выбирают месторождения с самым высокими оценками значений. Количество месторождений зависит от бюджета компании и стоимости разработки одной скважины;\n",
    "- Прибыль равна суммарной прибыли отобранных месторождений."
   ]
  },
  {
   "cell_type": "markdown",
   "metadata": {},
   "source": [
    "## Загрузка и подготовка данных"
   ]
  },
  {
   "cell_type": "code",
   "execution_count": 1,
   "metadata": {},
   "outputs": [],
   "source": [
    "!pip install phik -q"
   ]
  },
  {
   "cell_type": "code",
   "execution_count": 2,
   "metadata": {},
   "outputs": [],
   "source": [
    "# импорт необходимых библиотек\n",
    "import pandas as pd\n",
    "from sklearn.model_selection import train_test_split\n",
    "from sklearn.preprocessing import StandardScaler\n",
    "from sklearn.linear_model import LinearRegression\n",
    "from sklearn.metrics import mean_squared_error, mean_absolute_error\n",
    "from numpy.random import RandomState\n",
    "from sklearn.utils import shuffle\n",
    "import matplotlib.pyplot as plt\n",
    "import seaborn as sns\n",
    "import phik\n",
    "\n",
    "RANDOM_STATE = 42"
   ]
  },
  {
   "cell_type": "markdown",
   "metadata": {},
   "source": [
    "### Загрузка данных"
   ]
  },
  {
   "cell_type": "code",
   "execution_count": 3,
   "metadata": {},
   "outputs": [
    {
     "data": {
      "text/html": [
       "<div>\n",
       "<style scoped>\n",
       "    .dataframe tbody tr th:only-of-type {\n",
       "        vertical-align: middle;\n",
       "    }\n",
       "\n",
       "    .dataframe tbody tr th {\n",
       "        vertical-align: top;\n",
       "    }\n",
       "\n",
       "    .dataframe thead th {\n",
       "        text-align: right;\n",
       "    }\n",
       "</style>\n",
       "<table border=\"1\" class=\"dataframe\">\n",
       "  <thead>\n",
       "    <tr style=\"text-align: right;\">\n",
       "      <th></th>\n",
       "      <th>id</th>\n",
       "      <th>f0</th>\n",
       "      <th>f1</th>\n",
       "      <th>f2</th>\n",
       "      <th>product</th>\n",
       "    </tr>\n",
       "  </thead>\n",
       "  <tbody>\n",
       "    <tr>\n",
       "      <th>0</th>\n",
       "      <td>txEyH</td>\n",
       "      <td>0.705745</td>\n",
       "      <td>-0.497823</td>\n",
       "      <td>1.221170</td>\n",
       "      <td>105.280062</td>\n",
       "    </tr>\n",
       "    <tr>\n",
       "      <th>1</th>\n",
       "      <td>2acmU</td>\n",
       "      <td>1.334711</td>\n",
       "      <td>-0.340164</td>\n",
       "      <td>4.365080</td>\n",
       "      <td>73.037750</td>\n",
       "    </tr>\n",
       "    <tr>\n",
       "      <th>2</th>\n",
       "      <td>409Wp</td>\n",
       "      <td>1.022732</td>\n",
       "      <td>0.151990</td>\n",
       "      <td>1.419926</td>\n",
       "      <td>85.265647</td>\n",
       "    </tr>\n",
       "    <tr>\n",
       "      <th>3</th>\n",
       "      <td>iJLyR</td>\n",
       "      <td>-0.032172</td>\n",
       "      <td>0.139033</td>\n",
       "      <td>2.978566</td>\n",
       "      <td>168.620776</td>\n",
       "    </tr>\n",
       "    <tr>\n",
       "      <th>4</th>\n",
       "      <td>Xdl7t</td>\n",
       "      <td>1.988431</td>\n",
       "      <td>0.155413</td>\n",
       "      <td>4.751769</td>\n",
       "      <td>154.036647</td>\n",
       "    </tr>\n",
       "  </tbody>\n",
       "</table>\n",
       "</div>"
      ],
      "text/plain": [
       "      id        f0        f1        f2     product\n",
       "0  txEyH  0.705745 -0.497823  1.221170  105.280062\n",
       "1  2acmU  1.334711 -0.340164  4.365080   73.037750\n",
       "2  409Wp  1.022732  0.151990  1.419926   85.265647\n",
       "3  iJLyR -0.032172  0.139033  2.978566  168.620776\n",
       "4  Xdl7t  1.988431  0.155413  4.751769  154.036647"
      ]
     },
     "execution_count": 3,
     "metadata": {},
     "output_type": "execute_result"
    }
   ],
   "source": [
    "# считываем файл geo_data_0.csv и выводим первые пять строк на экран\n",
    "geo_data_0 = pd.read_csv('/datasets/geo_data_0.csv')\n",
    "geo_data_0.head()"
   ]
  },
  {
   "cell_type": "code",
   "execution_count": 4,
   "metadata": {},
   "outputs": [
    {
     "name": "stdout",
     "output_type": "stream",
     "text": [
      "<class 'pandas.core.frame.DataFrame'>\n",
      "RangeIndex: 100000 entries, 0 to 99999\n",
      "Data columns (total 5 columns):\n",
      " #   Column   Non-Null Count   Dtype  \n",
      "---  ------   --------------   -----  \n",
      " 0   id       100000 non-null  object \n",
      " 1   f0       100000 non-null  float64\n",
      " 2   f1       100000 non-null  float64\n",
      " 3   f2       100000 non-null  float64\n",
      " 4   product  100000 non-null  float64\n",
      "dtypes: float64(4), object(1)\n",
      "memory usage: 3.8+ MB\n"
     ]
    }
   ],
   "source": [
    "# выводим общую информацию о geo_data_0\n",
    "geo_data_0.info()"
   ]
  },
  {
   "cell_type": "code",
   "execution_count": 5,
   "metadata": {},
   "outputs": [
    {
     "data": {
      "text/html": [
       "<div>\n",
       "<style scoped>\n",
       "    .dataframe tbody tr th:only-of-type {\n",
       "        vertical-align: middle;\n",
       "    }\n",
       "\n",
       "    .dataframe tbody tr th {\n",
       "        vertical-align: top;\n",
       "    }\n",
       "\n",
       "    .dataframe thead th {\n",
       "        text-align: right;\n",
       "    }\n",
       "</style>\n",
       "<table border=\"1\" class=\"dataframe\">\n",
       "  <thead>\n",
       "    <tr style=\"text-align: right;\">\n",
       "      <th></th>\n",
       "      <th>id</th>\n",
       "      <th>f0</th>\n",
       "      <th>f1</th>\n",
       "      <th>f2</th>\n",
       "      <th>product</th>\n",
       "    </tr>\n",
       "  </thead>\n",
       "  <tbody>\n",
       "    <tr>\n",
       "      <th>0</th>\n",
       "      <td>kBEdx</td>\n",
       "      <td>-15.001348</td>\n",
       "      <td>-8.276000</td>\n",
       "      <td>-0.005876</td>\n",
       "      <td>3.179103</td>\n",
       "    </tr>\n",
       "    <tr>\n",
       "      <th>1</th>\n",
       "      <td>62mP7</td>\n",
       "      <td>14.272088</td>\n",
       "      <td>-3.475083</td>\n",
       "      <td>0.999183</td>\n",
       "      <td>26.953261</td>\n",
       "    </tr>\n",
       "    <tr>\n",
       "      <th>2</th>\n",
       "      <td>vyE1P</td>\n",
       "      <td>6.263187</td>\n",
       "      <td>-5.948386</td>\n",
       "      <td>5.001160</td>\n",
       "      <td>134.766305</td>\n",
       "    </tr>\n",
       "    <tr>\n",
       "      <th>3</th>\n",
       "      <td>KcrkZ</td>\n",
       "      <td>-13.081196</td>\n",
       "      <td>-11.506057</td>\n",
       "      <td>4.999415</td>\n",
       "      <td>137.945408</td>\n",
       "    </tr>\n",
       "    <tr>\n",
       "      <th>4</th>\n",
       "      <td>AHL4O</td>\n",
       "      <td>12.702195</td>\n",
       "      <td>-8.147433</td>\n",
       "      <td>5.004363</td>\n",
       "      <td>134.766305</td>\n",
       "    </tr>\n",
       "  </tbody>\n",
       "</table>\n",
       "</div>"
      ],
      "text/plain": [
       "      id         f0         f1        f2     product\n",
       "0  kBEdx -15.001348  -8.276000 -0.005876    3.179103\n",
       "1  62mP7  14.272088  -3.475083  0.999183   26.953261\n",
       "2  vyE1P   6.263187  -5.948386  5.001160  134.766305\n",
       "3  KcrkZ -13.081196 -11.506057  4.999415  137.945408\n",
       "4  AHL4O  12.702195  -8.147433  5.004363  134.766305"
      ]
     },
     "execution_count": 5,
     "metadata": {},
     "output_type": "execute_result"
    }
   ],
   "source": [
    "# считываем файл geo_data_1.csv и выводим первые пять строк на экран\n",
    "geo_data_1 = pd.read_csv('/datasets/geo_data_1.csv')\n",
    "geo_data_1.head()"
   ]
  },
  {
   "cell_type": "code",
   "execution_count": 6,
   "metadata": {},
   "outputs": [
    {
     "name": "stdout",
     "output_type": "stream",
     "text": [
      "<class 'pandas.core.frame.DataFrame'>\n",
      "RangeIndex: 100000 entries, 0 to 99999\n",
      "Data columns (total 5 columns):\n",
      " #   Column   Non-Null Count   Dtype  \n",
      "---  ------   --------------   -----  \n",
      " 0   id       100000 non-null  object \n",
      " 1   f0       100000 non-null  float64\n",
      " 2   f1       100000 non-null  float64\n",
      " 3   f2       100000 non-null  float64\n",
      " 4   product  100000 non-null  float64\n",
      "dtypes: float64(4), object(1)\n",
      "memory usage: 3.8+ MB\n"
     ]
    }
   ],
   "source": [
    "# выводим общую информацию о geo_data_1\n",
    "geo_data_1.info()"
   ]
  },
  {
   "cell_type": "code",
   "execution_count": 7,
   "metadata": {},
   "outputs": [
    {
     "data": {
      "text/html": [
       "<div>\n",
       "<style scoped>\n",
       "    .dataframe tbody tr th:only-of-type {\n",
       "        vertical-align: middle;\n",
       "    }\n",
       "\n",
       "    .dataframe tbody tr th {\n",
       "        vertical-align: top;\n",
       "    }\n",
       "\n",
       "    .dataframe thead th {\n",
       "        text-align: right;\n",
       "    }\n",
       "</style>\n",
       "<table border=\"1\" class=\"dataframe\">\n",
       "  <thead>\n",
       "    <tr style=\"text-align: right;\">\n",
       "      <th></th>\n",
       "      <th>id</th>\n",
       "      <th>f0</th>\n",
       "      <th>f1</th>\n",
       "      <th>f2</th>\n",
       "      <th>product</th>\n",
       "    </tr>\n",
       "  </thead>\n",
       "  <tbody>\n",
       "    <tr>\n",
       "      <th>0</th>\n",
       "      <td>fwXo0</td>\n",
       "      <td>-1.146987</td>\n",
       "      <td>0.963328</td>\n",
       "      <td>-0.828965</td>\n",
       "      <td>27.758673</td>\n",
       "    </tr>\n",
       "    <tr>\n",
       "      <th>1</th>\n",
       "      <td>WJtFt</td>\n",
       "      <td>0.262778</td>\n",
       "      <td>0.269839</td>\n",
       "      <td>-2.530187</td>\n",
       "      <td>56.069697</td>\n",
       "    </tr>\n",
       "    <tr>\n",
       "      <th>2</th>\n",
       "      <td>ovLUW</td>\n",
       "      <td>0.194587</td>\n",
       "      <td>0.289035</td>\n",
       "      <td>-5.586433</td>\n",
       "      <td>62.871910</td>\n",
       "    </tr>\n",
       "    <tr>\n",
       "      <th>3</th>\n",
       "      <td>q6cA6</td>\n",
       "      <td>2.236060</td>\n",
       "      <td>-0.553760</td>\n",
       "      <td>0.930038</td>\n",
       "      <td>114.572842</td>\n",
       "    </tr>\n",
       "    <tr>\n",
       "      <th>4</th>\n",
       "      <td>WPMUX</td>\n",
       "      <td>-0.515993</td>\n",
       "      <td>1.716266</td>\n",
       "      <td>5.899011</td>\n",
       "      <td>149.600746</td>\n",
       "    </tr>\n",
       "  </tbody>\n",
       "</table>\n",
       "</div>"
      ],
      "text/plain": [
       "      id        f0        f1        f2     product\n",
       "0  fwXo0 -1.146987  0.963328 -0.828965   27.758673\n",
       "1  WJtFt  0.262778  0.269839 -2.530187   56.069697\n",
       "2  ovLUW  0.194587  0.289035 -5.586433   62.871910\n",
       "3  q6cA6  2.236060 -0.553760  0.930038  114.572842\n",
       "4  WPMUX -0.515993  1.716266  5.899011  149.600746"
      ]
     },
     "execution_count": 7,
     "metadata": {},
     "output_type": "execute_result"
    }
   ],
   "source": [
    "# считываем файл geo_data_2.csv и выводим первые пять строк на экран\n",
    "geo_data_2 = pd.read_csv('/datasets/geo_data_2.csv')\n",
    "geo_data_2.head()"
   ]
  },
  {
   "cell_type": "code",
   "execution_count": 8,
   "metadata": {},
   "outputs": [
    {
     "name": "stdout",
     "output_type": "stream",
     "text": [
      "<class 'pandas.core.frame.DataFrame'>\n",
      "RangeIndex: 100000 entries, 0 to 99999\n",
      "Data columns (total 5 columns):\n",
      " #   Column   Non-Null Count   Dtype  \n",
      "---  ------   --------------   -----  \n",
      " 0   id       100000 non-null  object \n",
      " 1   f0       100000 non-null  float64\n",
      " 2   f1       100000 non-null  float64\n",
      " 3   f2       100000 non-null  float64\n",
      " 4   product  100000 non-null  float64\n",
      "dtypes: float64(4), object(1)\n",
      "memory usage: 3.8+ MB\n"
     ]
    }
   ],
   "source": [
    "# выводим общую информацию о geo_data_1\n",
    "geo_data_2.info()"
   ]
  },
  {
   "cell_type": "markdown",
   "metadata": {},
   "source": [
    "Изучив общую информацию о файлах, можем сказать, что всего в таблицах по 100000 строк и 5 столбцов. Во всех таблицах нет пропусков и столбцы имеют верный тип данных. Названия столбцов соответствуют \"хорошему\" стилю."
   ]
  },
  {
   "cell_type": "markdown",
   "metadata": {},
   "source": [
    "### Подготовка данных"
   ]
  },
  {
   "cell_type": "markdown",
   "metadata": {},
   "source": [
    "Проверим все датасеты на дубликаты."
   ]
  },
  {
   "cell_type": "code",
   "execution_count": 9,
   "metadata": {
    "scrolled": true
   },
   "outputs": [
    {
     "data": {
      "text/plain": [
       "0"
      ]
     },
     "metadata": {},
     "output_type": "display_data"
    },
    {
     "data": {
      "text/plain": [
       "0"
      ]
     },
     "metadata": {},
     "output_type": "display_data"
    },
    {
     "data": {
      "text/plain": [
       "0"
      ]
     },
     "metadata": {},
     "output_type": "display_data"
    }
   ],
   "source": [
    "# создаем список датасетов\n",
    "datasets = [geo_data_0, geo_data_1, geo_data_2]\n",
    "\n",
    "# для каждого датасета выводим количество дубликатов\n",
    "for dataset in datasets:\n",
    "    display(dataset.duplicated().sum())"
   ]
  },
  {
   "cell_type": "code",
   "execution_count": 10,
   "metadata": {},
   "outputs": [],
   "source": [
    "geo_data_0 = geo_data_0.drop('id', axis=1)\n",
    "geo_data_1 = geo_data_1.drop('id', axis=1)\n",
    "geo_data_2 = geo_data_2.drop('id', axis=1)"
   ]
  },
  {
   "cell_type": "code",
   "execution_count": 11,
   "metadata": {},
   "outputs": [
    {
     "name": "stdout",
     "output_type": "stream",
     "text": [
      "Распределения для региона geo_data_0:\n"
     ]
    },
    {
     "data": {
      "image/png": "[encoded data removed]",
      "text/plain": [
       "<Figure size 1008x432 with 2 Axes>"
      ]
     },
     "metadata": {
      "needs_background": "light"
     },
     "output_type": "display_data"
    },
    {
     "data": {
      "image/png": "[encoded data removed]",
      "text/plain": [
       "<Figure size 1008x432 with 2 Axes>"
      ]
     },
     "metadata": {
      "needs_background": "light"
     },
     "output_type": "display_data"
    },
    {
     "data": {
      "image/png": "[encoded data removed]",
      "text/plain": [
       "<Figure size 1008x432 with 2 Axes>"
      ]
     },
     "metadata": {
      "needs_background": "light"
     },
     "output_type": "display_data"
    },
    {
     "data": {
      "image/png": "[encoded data removed]",
      "text/plain": [
       "<Figure size 1008x432 with 2 Axes>"
      ]
     },
     "metadata": {
      "needs_background": "light"
     },
     "output_type": "display_data"
    }
   ],
   "source": [
    "print(f\"Распределения для региона geo_data_0:\")\n",
    "for col in geo_data_0.columns:\n",
    "    plt.figure(figsize=(14,6))\n",
    "\n",
    "    plt.subplot(1, 2, 1)\n",
    "    sns.histplot(geo_data_0[col], kde=True)\n",
    "    plt.title(f'Гистограмма для {col}')\n",
    "    plt.xlabel(col)  \n",
    "    plt.ylabel('Частота')  \n",
    "\n",
    "    plt.subplot(1, 2, 2)\n",
    "    sns.boxplot(x=geo_data_0[col])\n",
    "    plt.title(f'Ящик с усами для {col}')\n",
    "    plt.xlabel(col)  \n",
    "\n",
    "\n",
    "    plt.show()"
   ]
  },
  {
   "cell_type": "code",
   "execution_count": 12,
   "metadata": {},
   "outputs": [
    {
     "data": {
      "text/html": [
       "<div>\n",
       "<style scoped>\n",
       "    .dataframe tbody tr th:only-of-type {\n",
       "        vertical-align: middle;\n",
       "    }\n",
       "\n",
       "    .dataframe tbody tr th {\n",
       "        vertical-align: top;\n",
       "    }\n",
       "\n",
       "    .dataframe thead th {\n",
       "        text-align: right;\n",
       "    }\n",
       "</style>\n",
       "<table border=\"1\" class=\"dataframe\">\n",
       "  <thead>\n",
       "    <tr style=\"text-align: right;\">\n",
       "      <th></th>\n",
       "      <th>f0</th>\n",
       "      <th>f1</th>\n",
       "      <th>f2</th>\n",
       "      <th>product</th>\n",
       "    </tr>\n",
       "  </thead>\n",
       "  <tbody>\n",
       "    <tr>\n",
       "      <th>f0</th>\n",
       "      <td>1.000000</td>\n",
       "      <td>0.762170</td>\n",
       "      <td>0.000000</td>\n",
       "      <td>0.215525</td>\n",
       "    </tr>\n",
       "    <tr>\n",
       "      <th>f1</th>\n",
       "      <td>0.762170</td>\n",
       "      <td>1.000000</td>\n",
       "      <td>0.000000</td>\n",
       "      <td>0.253544</td>\n",
       "    </tr>\n",
       "    <tr>\n",
       "      <th>f2</th>\n",
       "      <td>0.000000</td>\n",
       "      <td>0.000000</td>\n",
       "      <td>1.000000</td>\n",
       "      <td>0.475901</td>\n",
       "    </tr>\n",
       "    <tr>\n",
       "      <th>product</th>\n",
       "      <td>0.215525</td>\n",
       "      <td>0.253544</td>\n",
       "      <td>0.475901</td>\n",
       "      <td>1.000000</td>\n",
       "    </tr>\n",
       "  </tbody>\n",
       "</table>\n",
       "</div>"
      ],
      "text/plain": [
       "               f0        f1        f2   product\n",
       "f0       1.000000  0.762170  0.000000  0.215525\n",
       "f1       0.762170  1.000000  0.000000  0.253544\n",
       "f2       0.000000  0.000000  1.000000  0.475901\n",
       "product  0.215525  0.253544  0.475901  1.000000"
      ]
     },
     "execution_count": 12,
     "metadata": {},
     "output_type": "execute_result"
    }
   ],
   "source": [
    "corr_0 = geo_data_0.phik_matrix(interval_cols=['f0','f1','f2','product'])\n",
    "corr_0"
   ]
  },
  {
   "cell_type": "code",
   "execution_count": 13,
   "metadata": {},
   "outputs": [
    {
     "data": {
      "image/png": "[encoded data removed]",
      "text/plain": [
       "<Figure size 504x360 with 2 Axes>"
      ]
     },
     "metadata": {},
     "output_type": "display_data"
    }
   ],
   "source": [
    "# построим тепловую карту коэффициентов phik\n",
    "sns.set(font_scale=1.1)\n",
    "plt.figure(figsize=(7,5))\n",
    "sns.heatmap(corr_0, annot=True, fmt='.2f') \n",
    "plt.show()"
   ]
  },
  {
   "cell_type": "markdown",
   "metadata": {},
   "source": [
    "Гистограммы распределений входных признаков f0 и f1 и целевого признака не похожи на нормальные распределения, ящики с усами для этих признаков не имеею аномалий и выбросов. Признак f2 распределен нормально, есть много выбросов. \n",
    "\n",
    "Анализируя тепловую карту, можем сказать, что есть сильная связь между признаками f0 и f1, коэффициет корреляции phik равен 0,76, а так же есть умеренная связь между входным признаком f2 и целевым, коээфициент корреляции равен 0,48. Мультиколлинеарности нет."
   ]
  },
  {
   "cell_type": "code",
   "execution_count": 14,
   "metadata": {},
   "outputs": [
    {
     "name": "stdout",
     "output_type": "stream",
     "text": [
      "Распределения для региона geo_data_1:\n"
     ]
    },
    {
     "data": {
      "image/png": "[encoded data removed]",
      "text/plain": [
       "<Figure size 1008x432 with 2 Axes>"
      ]
     },
     "metadata": {},
     "output_type": "display_data"
    },
    {
     "data": {
      "image/png": "[encoded data removed]",
      "text/plain": [
       "<Figure size 1008x432 with 2 Axes>"
      ]
     },
     "metadata": {},
     "output_type": "display_data"
    },
    {
     "data": {
      "image/png": "[encoded data removed]",
      "text/plain": [
       "<Figure size 1008x432 with 2 Axes>"
      ]
     },
     "metadata": {},
     "output_type": "display_data"
    },
    {
     "data": {
      "image/png": "[encoded data removed]",
      "text/plain": [
       "<Figure size 1008x432 with 2 Axes>"
      ]
     },
     "metadata": {},
     "output_type": "display_data"
    }
   ],
   "source": [
    "print(f\"Распределения для региона geo_data_1:\")\n",
    "for col in geo_data_1.columns:\n",
    "    plt.figure(figsize=(14,6))\n",
    "\n",
    "    plt.subplot(1, 2, 1)\n",
    "    sns.histplot(geo_data_0[col], kde=True)\n",
    "    plt.title(f'Гистограмма для {col}')\n",
    "    plt.xlabel(col)  \n",
    "    plt.ylabel('Частота')  \n",
    "\n",
    "    plt.subplot(1, 2, 2)\n",
    "    sns.boxplot(x=geo_data_1[col])\n",
    "    plt.title(f'Ящик с усами для {col}')\n",
    "    plt.xlabel(col)  \n",
    "\n",
    "\n",
    "    plt.show()"
   ]
  },
  {
   "cell_type": "code",
   "execution_count": 15,
   "metadata": {},
   "outputs": [
    {
     "data": {
      "text/html": [
       "<div>\n",
       "<style scoped>\n",
       "    .dataframe tbody tr th:only-of-type {\n",
       "        vertical-align: middle;\n",
       "    }\n",
       "\n",
       "    .dataframe tbody tr th {\n",
       "        vertical-align: top;\n",
       "    }\n",
       "\n",
       "    .dataframe thead th {\n",
       "        text-align: right;\n",
       "    }\n",
       "</style>\n",
       "<table border=\"1\" class=\"dataframe\">\n",
       "  <thead>\n",
       "    <tr style=\"text-align: right;\">\n",
       "      <th></th>\n",
       "      <th>f0</th>\n",
       "      <th>f1</th>\n",
       "      <th>f2</th>\n",
       "      <th>product</th>\n",
       "    </tr>\n",
       "  </thead>\n",
       "  <tbody>\n",
       "    <tr>\n",
       "      <th>f0</th>\n",
       "      <td>1.000000</td>\n",
       "      <td>0.196080</td>\n",
       "      <td>0.000000</td>\n",
       "      <td>0.628482</td>\n",
       "    </tr>\n",
       "    <tr>\n",
       "      <th>f1</th>\n",
       "      <td>0.196080</td>\n",
       "      <td>1.000000</td>\n",
       "      <td>0.000000</td>\n",
       "      <td>0.185965</td>\n",
       "    </tr>\n",
       "    <tr>\n",
       "      <th>f2</th>\n",
       "      <td>0.000000</td>\n",
       "      <td>0.000000</td>\n",
       "      <td>1.000000</td>\n",
       "      <td>0.978936</td>\n",
       "    </tr>\n",
       "    <tr>\n",
       "      <th>product</th>\n",
       "      <td>0.628482</td>\n",
       "      <td>0.185965</td>\n",
       "      <td>0.978936</td>\n",
       "      <td>1.000000</td>\n",
       "    </tr>\n",
       "  </tbody>\n",
       "</table>\n",
       "</div>"
      ],
      "text/plain": [
       "               f0        f1        f2   product\n",
       "f0       1.000000  0.196080  0.000000  0.628482\n",
       "f1       0.196080  1.000000  0.000000  0.185965\n",
       "f2       0.000000  0.000000  1.000000  0.978936\n",
       "product  0.628482  0.185965  0.978936  1.000000"
      ]
     },
     "execution_count": 15,
     "metadata": {},
     "output_type": "execute_result"
    }
   ],
   "source": [
    "corr_1 = geo_data_1.phik_matrix(interval_cols=['f0','f1','f2','product'])\n",
    "corr_1"
   ]
  },
  {
   "cell_type": "code",
   "execution_count": 16,
   "metadata": {},
   "outputs": [
    {
     "data": {
      "image/png": "[encoded data removed]",
      "text/plain": [
       "<Figure size 504x360 with 2 Axes>"
      ]
     },
     "metadata": {},
     "output_type": "display_data"
    }
   ],
   "source": [
    "# построим тепловую карту коэффициентов phik\n",
    "sns.set(font_scale=1.1)\n",
    "plt.figure(figsize=(7,5))\n",
    "sns.heatmap(corr_1, annot=True, fmt='.2f') \n",
    "plt.show()"
   ]
  },
  {
   "cell_type": "markdown",
   "metadata": {},
   "source": [
    "Так же как и для региона geo_data_0 гистограммы распределений входных признаков f0 и f1 и целевого признака не похожи на нормальные распределения, ящики с усами для этих признаков не имеею аномалий и выбросов. Признак f2 распределен нормально, есть много выбросов. \n",
    "\n",
    "Анализируя тепловую карту, можем сказать, что есть заметная связь между  входным признаком f0 и целевым признаком, коэффициет корреляции phik равен 0,63, а так же есть очень сильная связь между входным признаком f2 и целевым, коээфициент корреляции равен 0,98, что говорит о мультиколлинеарности между этими признаками."
   ]
  },
  {
   "cell_type": "code",
   "execution_count": 17,
   "metadata": {},
   "outputs": [
    {
     "name": "stdout",
     "output_type": "stream",
     "text": [
      "Распределения для региона geo_data_2:\n"
     ]
    },
    {
     "data": {
      "image/png": "[encoded data removed]",
      "text/plain": [
       "<Figure size 1008x432 with 2 Axes>"
      ]
     },
     "metadata": {},
     "output_type": "display_data"
    },
    {
     "data": {
      "image/png": "[encoded data removed]",
      "text/plain": [
       "<Figure size 1008x432 with 2 Axes>"
      ]
     },
     "metadata": {},
     "output_type": "display_data"
    },
    {
     "data": {
      "image/png": "[encoded data removed]",
      "text/plain": [
       "<Figure size 1008x432 with 2 Axes>"
      ]
     },
     "metadata": {},
     "output_type": "display_data"
    },
    {
     "data": {
      "image/png": "[encoded data removed]",
      "text/plain": [
       "<Figure size 1008x432 with 2 Axes>"
      ]
     },
     "metadata": {},
     "output_type": "display_data"
    }
   ],
   "source": [
    "print(f\"Распределения для региона geo_data_2:\")\n",
    "for col in geo_data_2.columns:\n",
    "    plt.figure(figsize=(14,6))\n",
    "\n",
    "    plt.subplot(1, 2, 1)\n",
    "    sns.histplot(geo_data_2[col], kde=True)\n",
    "    plt.title(f'Гистограмма для {col}')\n",
    "    plt.xlabel(col)  \n",
    "    plt.ylabel('Частота')  \n",
    "\n",
    "    plt.subplot(1, 2, 2)\n",
    "    sns.boxplot(x=geo_data_2[col])\n",
    "    plt.title(f'Ящик с усами для {col}')\n",
    "    plt.xlabel(col)  \n",
    "\n",
    "\n",
    "    plt.show()"
   ]
  },
  {
   "cell_type": "code",
   "execution_count": 18,
   "metadata": {},
   "outputs": [
    {
     "data": {
      "text/html": [
       "<div>\n",
       "<style scoped>\n",
       "    .dataframe tbody tr th:only-of-type {\n",
       "        vertical-align: middle;\n",
       "    }\n",
       "\n",
       "    .dataframe tbody tr th {\n",
       "        vertical-align: top;\n",
       "    }\n",
       "\n",
       "    .dataframe thead th {\n",
       "        text-align: right;\n",
       "    }\n",
       "</style>\n",
       "<table border=\"1\" class=\"dataframe\">\n",
       "  <thead>\n",
       "    <tr style=\"text-align: right;\">\n",
       "      <th></th>\n",
       "      <th>f0</th>\n",
       "      <th>f1</th>\n",
       "      <th>f2</th>\n",
       "      <th>product</th>\n",
       "    </tr>\n",
       "  </thead>\n",
       "  <tbody>\n",
       "    <tr>\n",
       "      <th>f0</th>\n",
       "      <td>1.000000</td>\n",
       "      <td>0.000000</td>\n",
       "      <td>0.000000</td>\n",
       "      <td>0.201068</td>\n",
       "    </tr>\n",
       "    <tr>\n",
       "      <th>f1</th>\n",
       "      <td>0.000000</td>\n",
       "      <td>1.000000</td>\n",
       "      <td>0.000000</td>\n",
       "      <td>0.221022</td>\n",
       "    </tr>\n",
       "    <tr>\n",
       "      <th>f2</th>\n",
       "      <td>0.000000</td>\n",
       "      <td>0.000000</td>\n",
       "      <td>1.000000</td>\n",
       "      <td>0.443287</td>\n",
       "    </tr>\n",
       "    <tr>\n",
       "      <th>product</th>\n",
       "      <td>0.201068</td>\n",
       "      <td>0.221022</td>\n",
       "      <td>0.443287</td>\n",
       "      <td>1.000000</td>\n",
       "    </tr>\n",
       "  </tbody>\n",
       "</table>\n",
       "</div>"
      ],
      "text/plain": [
       "               f0        f1        f2   product\n",
       "f0       1.000000  0.000000  0.000000  0.201068\n",
       "f1       0.000000  1.000000  0.000000  0.221022\n",
       "f2       0.000000  0.000000  1.000000  0.443287\n",
       "product  0.201068  0.221022  0.443287  1.000000"
      ]
     },
     "execution_count": 18,
     "metadata": {},
     "output_type": "execute_result"
    }
   ],
   "source": [
    "corr_2 = geo_data_2.phik_matrix(interval_cols=['f0','f1','f2','product'])\n",
    "corr_2"
   ]
  },
  {
   "cell_type": "code",
   "execution_count": 19,
   "metadata": {},
   "outputs": [
    {
     "data": {
      "image/png": "[encoded data removed]",
      "text/plain": [
       "<Figure size 504x360 with 2 Axes>"
      ]
     },
     "metadata": {},
     "output_type": "display_data"
    }
   ],
   "source": [
    "# построим тепловую карту коэффициентов phik\n",
    "sns.set(font_scale=1.1)\n",
    "plt.figure(figsize=(7,5))\n",
    "sns.heatmap(corr_2, annot=True, fmt='.2f') \n",
    "plt.show()"
   ]
  },
  {
   "cell_type": "markdown",
   "metadata": {},
   "source": [
    "В отличие о первых двух регионов, у региона geo_data_2 гистограммы распределений всех входных признаков  похожи на нормальные распределения, все ящики с усами для этих признаков имеют выбросы. Целевой признак на нормальное распределение не похож, выбров нет. \n",
    "\n",
    "Анализируя тепловую карту, можем сказать, что есть умеренная связь между  входным признаком f2 и целевым признаком, коэффициет корреляции phik равен 0,44, между остальными признаками связь или слабая или ее нет. Мультиколлинеарности тоже нет."
   ]
  },
  {
   "cell_type": "markdown",
   "metadata": {},
   "source": [
    "Разделим датафреймы на обучающие и валидационные выборки в соотношении 75:25."
   ]
  },
  {
   "cell_type": "code",
   "execution_count": 20,
   "metadata": {},
   "outputs": [],
   "source": [
    "# определяем признаки и целевое значение для датафрейма geo_data_0\n",
    "X_0 = geo_data_0.drop('product', axis=1)\n",
    "y_0 = geo_data_0['product']\n",
    "\n",
    "# разделение на обучающую и валидационную выборки\n",
    "X_train_0, X_valid_0, y_train_0, y_valid_0 = train_test_split(\n",
    "    X_0, \n",
    "    y_0,\n",
    "    test_size=0.25,\n",
    "    random_state=RANDOM_STATE\n",
    ")  \n",
    "\n",
    "# определяем признаки и целевое значение для датафрейма geo_data_1\n",
    "X_1 = geo_data_1.drop({'product'}, axis=1)\n",
    "y_1 = geo_data_1['product']\n",
    "\n",
    "# разделение на обучающую и валидационную выборки\n",
    "X_train_1, X_valid_1, y_train_1, y_valid_1 = train_test_split(\n",
    "    X_1, \n",
    "    y_1,\n",
    "    test_size=0.25,\n",
    "    random_state=RANDOM_STATE\n",
    ") \n",
    "\n",
    "# определяем признаки и целевое значение для датафрейма geo_data_1\n",
    "X_2 = geo_data_2.drop('product', axis=1)\n",
    "y_2 = geo_data_2['product']\n",
    "\n",
    "# разделение на обучающую и валидационную выборки\n",
    "X_train_2, X_valid_2, y_train_2, y_valid_2 = train_test_split(\n",
    "    X_2, \n",
    "    y_2,\n",
    "    test_size=0.25,\n",
    "    random_state=RANDOM_STATE\n",
    ") "
   ]
  },
  {
   "cell_type": "markdown",
   "metadata": {},
   "source": [
    "Отмасштабируем количественные признаки с помощью StandardScaler."
   ]
  },
  {
   "cell_type": "code",
   "execution_count": 21,
   "metadata": {},
   "outputs": [],
   "source": [
    "# список количественных признаков\n",
    "num_col_names = ['f0', 'f1', 'f2']\n",
    "\n",
    "# создаем переменную с экземпляром класса StandardScaler()\n",
    "scaler = StandardScaler()\n",
    "\n",
    "# создаём тренировочный и валидационный датафреймы из отмасштабированных данных geo_data_0\n",
    "X_train_0_scaled = pd.DataFrame(scaler.fit_transform(X_train_0[num_col_names]), columns=num_col_names) \n",
    "X_valid_0_scaled = pd.DataFrame(scaler.transform(X_valid_0[num_col_names]), columns=num_col_names) \n",
    " \n",
    "# создаём тренировочный и валидационный датафреймы из отмасштабированных данных geo_data_1\n",
    "X_train_1_scaled = pd.DataFrame(scaler.fit_transform(X_train_1[num_col_names]), columns=num_col_names) \n",
    "X_valid_1_scaled = pd.DataFrame(scaler.transform(X_valid_1[num_col_names]), columns=num_col_names) \n",
    " \n",
    "# создаём тренировочный и валидационный датафреймы из отмасштабированных данных geo_data_2\n",
    "X_train_2_scaled = pd.DataFrame(scaler.fit_transform(X_train_2[num_col_names]), columns=num_col_names) \n",
    "X_valid_2_scaled = pd.DataFrame(scaler.transform(X_valid_2[num_col_names]), columns=num_col_names) "
   ]
  },
  {
   "cell_type": "markdown",
   "metadata": {},
   "source": [
    "## Обучение и проверка модели"
   ]
  },
  {
   "cell_type": "code",
   "execution_count": 22,
   "metadata": {},
   "outputs": [],
   "source": [
    "# обучение модели и получение предсказаний на валидационных данных\n",
    "model_lr  = LinearRegression()\n",
    "\n",
    "# geo_data_0\n",
    "model_lr.fit(X_train_0, y_train_0)\n",
    "pred_0 = model_lr.predict(X_valid_0)\n",
    "\n",
    "# geo_data_1\n",
    "model_lr.fit(X_train_1, y_train_1)\n",
    "pred_1 = model_lr.predict(X_valid_1)\n",
    "\n",
    "# geo_data_2\n",
    "model_lr.fit(X_train_2, y_train_2)\n",
    "pred_2 = model_lr.predict(X_valid_2)"
   ]
  },
  {
   "cell_type": "markdown",
   "metadata": {},
   "source": [
    "Сохраним предсказания и правильные ответы на валидационной выборке для каждого региона. Найдем средний запас предсказанного сырья и RMSE модели. Так же найдем метрику МАЕ для всех регионов."
   ]
  },
  {
   "cell_type": "code",
   "execution_count": 23,
   "metadata": {},
   "outputs": [
    {
     "name": "stdout",
     "output_type": "stream",
     "text": [
      "\n",
      "Первые 5 строк из валидационной выборки для региона geo_data_0:\n"
     ]
    },
    {
     "data": {
      "text/html": [
       "<div>\n",
       "<style scoped>\n",
       "    .dataframe tbody tr th:only-of-type {\n",
       "        vertical-align: middle;\n",
       "    }\n",
       "\n",
       "    .dataframe tbody tr th {\n",
       "        vertical-align: top;\n",
       "    }\n",
       "\n",
       "    .dataframe thead th {\n",
       "        text-align: right;\n",
       "    }\n",
       "</style>\n",
       "<table border=\"1\" class=\"dataframe\">\n",
       "  <thead>\n",
       "    <tr style=\"text-align: right;\">\n",
       "      <th></th>\n",
       "      <th>f0</th>\n",
       "      <th>f1</th>\n",
       "      <th>f2</th>\n",
       "      <th>product</th>\n",
       "      <th>prediction</th>\n",
       "    </tr>\n",
       "  </thead>\n",
       "  <tbody>\n",
       "    <tr>\n",
       "      <th>75721</th>\n",
       "      <td>0.599283</td>\n",
       "      <td>-0.557623</td>\n",
       "      <td>2.121187</td>\n",
       "      <td>122.073350</td>\n",
       "      <td>101.901017</td>\n",
       "    </tr>\n",
       "    <tr>\n",
       "      <th>80184</th>\n",
       "      <td>0.739017</td>\n",
       "      <td>-0.463156</td>\n",
       "      <td>-1.347584</td>\n",
       "      <td>48.738540</td>\n",
       "      <td>78.217774</td>\n",
       "    </tr>\n",
       "    <tr>\n",
       "      <th>19864</th>\n",
       "      <td>1.422743</td>\n",
       "      <td>-0.534917</td>\n",
       "      <td>3.718798</td>\n",
       "      <td>131.338088</td>\n",
       "      <td>115.266901</td>\n",
       "    </tr>\n",
       "    <tr>\n",
       "      <th>76699</th>\n",
       "      <td>1.580244</td>\n",
       "      <td>-0.238458</td>\n",
       "      <td>2.805149</td>\n",
       "      <td>88.327757</td>\n",
       "      <td>105.618618</td>\n",
       "    </tr>\n",
       "    <tr>\n",
       "      <th>92991</th>\n",
       "      <td>0.918974</td>\n",
       "      <td>0.023961</td>\n",
       "      <td>2.598575</td>\n",
       "      <td>36.959266</td>\n",
       "      <td>97.980185</td>\n",
       "    </tr>\n",
       "  </tbody>\n",
       "</table>\n",
       "</div>"
      ],
      "text/plain": [
       "             f0        f1        f2     product  prediction\n",
       "75721  0.599283 -0.557623  2.121187  122.073350  101.901017\n",
       "80184  0.739017 -0.463156 -1.347584   48.738540   78.217774\n",
       "19864  1.422743 -0.534917  3.718798  131.338088  115.266901\n",
       "76699  1.580244 -0.238458  2.805149   88.327757  105.618618\n",
       "92991  0.918974  0.023961  2.598575   36.959266   97.980185"
      ]
     },
     "metadata": {},
     "output_type": "display_data"
    },
    {
     "name": "stdout",
     "output_type": "stream",
     "text": [
      "\n",
      "Средний запас предсказанного сырья для региона geo_data_0: 92.39879990657768\n",
      "RMSE модели для региона geo_data_0: 37.75660035026169\n",
      "МАЕ модели для региона geo_data_0: 31.047681538788183\n"
     ]
    }
   ],
   "source": [
    "# объединение входных и целевого признаков валидационной выборки для geo_data_0\n",
    "# добавление столца с предсказанием в валидационную выборку\n",
    "valid_geo_data_0 = pd.concat([X_valid_0, y_valid_0], axis=1)\n",
    "valid_geo_data_0['prediction'] = pred_0\n",
    "print(f\"\\nПервые 5 строк из валидационной выборки для региона geo_data_0:\")\n",
    "display(valid_geo_data_0.head())\n",
    "\n",
    "# найдем средний запас предсказанного сырья для региона geo_data_0\n",
    "avg_pred_0 = valid_geo_data_0['prediction'].mean()\n",
    "print(f\"\\nСредний запас предсказанного сырья для региона geo_data_0: {avg_pred_0}\")\n",
    "\n",
    "# найдем метрику RMSE модели для региона geo_data_0\n",
    "rmse_0 = mean_squared_error(y_valid_0, pred_0, squared=False) \n",
    "print(f\"RMSE модели для региона geo_data_0: {rmse_0}\")\n",
    "\n",
    "# найдем метрику МАЕ модели для региона geo_data_0\n",
    "mae_0 = mean_absolute_error(y_valid_0, pred_0)\n",
    "print(f\"МАЕ модели для региона geo_data_0: {mae_0}\")"
   ]
  },
  {
   "cell_type": "code",
   "execution_count": 24,
   "metadata": {},
   "outputs": [
    {
     "name": "stdout",
     "output_type": "stream",
     "text": [
      "\n",
      "Первые 5 строк из валидационной выборки для региона geo_data_1:\n"
     ]
    },
    {
     "data": {
      "text/html": [
       "<div>\n",
       "<style scoped>\n",
       "    .dataframe tbody tr th:only-of-type {\n",
       "        vertical-align: middle;\n",
       "    }\n",
       "\n",
       "    .dataframe tbody tr th {\n",
       "        vertical-align: top;\n",
       "    }\n",
       "\n",
       "    .dataframe thead th {\n",
       "        text-align: right;\n",
       "    }\n",
       "</style>\n",
       "<table border=\"1\" class=\"dataframe\">\n",
       "  <thead>\n",
       "    <tr style=\"text-align: right;\">\n",
       "      <th></th>\n",
       "      <th>f0</th>\n",
       "      <th>f1</th>\n",
       "      <th>f2</th>\n",
       "      <th>product</th>\n",
       "      <th>prediction</th>\n",
       "    </tr>\n",
       "  </thead>\n",
       "  <tbody>\n",
       "    <tr>\n",
       "      <th>75721</th>\n",
       "      <td>6.078076</td>\n",
       "      <td>0.084568</td>\n",
       "      <td>0.002957</td>\n",
       "      <td>0.000000</td>\n",
       "      <td>0.844738</td>\n",
       "    </tr>\n",
       "    <tr>\n",
       "      <th>80184</th>\n",
       "      <td>16.462386</td>\n",
       "      <td>2.712946</td>\n",
       "      <td>1.993030</td>\n",
       "      <td>53.906522</td>\n",
       "      <td>52.921612</td>\n",
       "    </tr>\n",
       "    <tr>\n",
       "      <th>19864</th>\n",
       "      <td>7.051898</td>\n",
       "      <td>0.766983</td>\n",
       "      <td>4.990194</td>\n",
       "      <td>134.766305</td>\n",
       "      <td>135.110385</td>\n",
       "    </tr>\n",
       "    <tr>\n",
       "      <th>76699</th>\n",
       "      <td>-0.240045</td>\n",
       "      <td>-0.380804</td>\n",
       "      <td>3.999693</td>\n",
       "      <td>107.813044</td>\n",
       "      <td>109.494863</td>\n",
       "    </tr>\n",
       "    <tr>\n",
       "      <th>92991</th>\n",
       "      <td>13.350111</td>\n",
       "      <td>-8.558281</td>\n",
       "      <td>0.002010</td>\n",
       "      <td>0.000000</td>\n",
       "      <td>-0.047292</td>\n",
       "    </tr>\n",
       "  </tbody>\n",
       "</table>\n",
       "</div>"
      ],
      "text/plain": [
       "              f0        f1        f2     product  prediction\n",
       "75721   6.078076  0.084568  0.002957    0.000000    0.844738\n",
       "80184  16.462386  2.712946  1.993030   53.906522   52.921612\n",
       "19864   7.051898  0.766983  4.990194  134.766305  135.110385\n",
       "76699  -0.240045 -0.380804  3.999693  107.813044  109.494863\n",
       "92991  13.350111 -8.558281  0.002010    0.000000   -0.047292"
      ]
     },
     "metadata": {},
     "output_type": "display_data"
    },
    {
     "name": "stdout",
     "output_type": "stream",
     "text": [
      "\n",
      "Средний запас предсказанного сырья для региона geo_data_1: 68.71287803913762\n",
      "RMSE модели для региона geo_data_1: 0.890280100102884\n",
      "МАЕ модели для региона geo_data_1: 0.7170119535682554\n"
     ]
    }
   ],
   "source": [
    "# объединение входных и целевого признаков валидационной выборки для geo_data_1\n",
    "# добавление столца с предсказанием в валидационную выборку\n",
    "valid_geo_data_1 = pd.concat([X_valid_1, y_valid_1], axis=1)\n",
    "valid_geo_data_1['prediction'] = pred_1\n",
    "print(f\"\\nПервые 5 строк из валидационной выборки для региона geo_data_1:\")\n",
    "display(valid_geo_data_1.head())\n",
    "\n",
    "# найдем средний запас предсказанного сырья для региона geo_data_1\n",
    "avg_pred_1 = valid_geo_data_1['prediction'].mean()\n",
    "print(f\"\\nСредний запас предсказанного сырья для региона geo_data_1: {avg_pred_1}\")\n",
    "\n",
    "# найдем метрику RMSE модели для региона geo_data_1\n",
    "rmse_1 = mean_squared_error(y_valid_1, pred_1, squared=False) \n",
    "print(f\"RMSE модели для региона geo_data_1: {rmse_1}\")\n",
    "\n",
    "# найдем метрику МАЕ модели для региона geo_data_1\n",
    "mae_1 = mean_absolute_error(y_valid_1, pred_1)\n",
    "print(f\"МАЕ модели для региона geo_data_1: {mae_1}\")"
   ]
  },
  {
   "cell_type": "code",
   "execution_count": 25,
   "metadata": {},
   "outputs": [
    {
     "name": "stdout",
     "output_type": "stream",
     "text": [
      "\n",
      "Первые 5 строк из валидационной выборки для региона geo_data_2:\n"
     ]
    },
    {
     "data": {
      "text/html": [
       "<div>\n",
       "<style scoped>\n",
       "    .dataframe tbody tr th:only-of-type {\n",
       "        vertical-align: middle;\n",
       "    }\n",
       "\n",
       "    .dataframe tbody tr th {\n",
       "        vertical-align: top;\n",
       "    }\n",
       "\n",
       "    .dataframe thead th {\n",
       "        text-align: right;\n",
       "    }\n",
       "</style>\n",
       "<table border=\"1\" class=\"dataframe\">\n",
       "  <thead>\n",
       "    <tr style=\"text-align: right;\">\n",
       "      <th></th>\n",
       "      <th>f0</th>\n",
       "      <th>f1</th>\n",
       "      <th>f2</th>\n",
       "      <th>product</th>\n",
       "      <th>prediction</th>\n",
       "    </tr>\n",
       "  </thead>\n",
       "  <tbody>\n",
       "    <tr>\n",
       "      <th>75721</th>\n",
       "      <td>2.111118</td>\n",
       "      <td>-1.679773</td>\n",
       "      <td>3.112240</td>\n",
       "      <td>117.441301</td>\n",
       "      <td>98.301916</td>\n",
       "    </tr>\n",
       "    <tr>\n",
       "      <th>80184</th>\n",
       "      <td>0.734759</td>\n",
       "      <td>0.747788</td>\n",
       "      <td>3.670879</td>\n",
       "      <td>47.841249</td>\n",
       "      <td>101.592461</td>\n",
       "    </tr>\n",
       "    <tr>\n",
       "      <th>19864</th>\n",
       "      <td>-2.513109</td>\n",
       "      <td>0.844631</td>\n",
       "      <td>-4.922889</td>\n",
       "      <td>45.883483</td>\n",
       "      <td>52.449099</td>\n",
       "    </tr>\n",
       "    <tr>\n",
       "      <th>76699</th>\n",
       "      <td>-2.035301</td>\n",
       "      <td>-1.522988</td>\n",
       "      <td>5.072839</td>\n",
       "      <td>139.014608</td>\n",
       "      <td>109.922127</td>\n",
       "    </tr>\n",
       "    <tr>\n",
       "      <th>92991</th>\n",
       "      <td>2.744145</td>\n",
       "      <td>1.429952</td>\n",
       "      <td>-1.372661</td>\n",
       "      <td>84.004276</td>\n",
       "      <td>72.411847</td>\n",
       "    </tr>\n",
       "  </tbody>\n",
       "</table>\n",
       "</div>"
      ],
      "text/plain": [
       "             f0        f1        f2     product  prediction\n",
       "75721  2.111118 -1.679773  3.112240  117.441301   98.301916\n",
       "80184  0.734759  0.747788  3.670879   47.841249  101.592461\n",
       "19864 -2.513109  0.844631 -4.922889   45.883483   52.449099\n",
       "76699 -2.035301 -1.522988  5.072839  139.014608  109.922127\n",
       "92991  2.744145  1.429952 -1.372661   84.004276   72.411847"
      ]
     },
     "metadata": {},
     "output_type": "display_data"
    },
    {
     "name": "stdout",
     "output_type": "stream",
     "text": [
      "\n",
      "Средний запас предсказанного сырья для региона geo_data_2: 94.77102387765939\n",
      "RMSE модели для региона geo_data_2: 40.145872311342174\n",
      "МАЕ модели для региона geo_data_2: 32.896958610578054\n"
     ]
    }
   ],
   "source": [
    "# объединение входных и целевого признаков валидационной выборки для geo_data_2\n",
    "# добавление столца с предсказанием в валидационную выборку\n",
    "valid_geo_data_2 = pd.concat([X_valid_2, y_valid_2], axis=1)\n",
    "valid_geo_data_2['prediction'] = pred_2\n",
    "print(f\"\\nПервые 5 строк из валидационной выборки для региона geo_data_2:\")\n",
    "display(valid_geo_data_2.head())\n",
    "\n",
    "# найдем средний запас предсказанного сырья для региона geo_data_2\n",
    "avg_pred_2 = valid_geo_data_2['prediction'].mean()\n",
    "print(f\"\\nСредний запас предсказанного сырья для региона geo_data_2: {avg_pred_2}\")\n",
    "\n",
    "# найдем метрику RMSE модели для региона geo_data_2\n",
    "rmse_2 = mean_squared_error(y_valid_2, pred_2, squared=False) \n",
    "print(f\"RMSE модели для региона geo_data_2: {rmse_2}\")\n",
    "\n",
    "# найдем метрику МАЕ модели для региона geo_data_2\n",
    "mae_2 = mean_absolute_error(y_valid_2, pred_2)\n",
    "print(f\"МАЕ модели для региона geo_data_2: {mae_2}\")"
   ]
  },
  {
   "cell_type": "markdown",
   "metadata": {},
   "source": [
    "Данные результаты показывают, что модели имеют различное качество предсказаний для разных наборов данных. Модель для geo_data_1 имеет наименьшие значения RMSE (0,89) и MAE (0,72), что указывает на лучшую точность предсказаний по сравнению с другими моделями. Модель для geo_data_2 имеет наибольшие значения RMSE (40,15) и МАЕ (32,9), что указывает на наибольшую ошибку предсказаний."
   ]
  },
  {
   "cell_type": "markdown",
   "metadata": {},
   "source": [
    "## Подготовка к расчёту прибыли"
   ]
  },
  {
   "cell_type": "markdown",
   "metadata": {},
   "source": [
    " Все ключевые значения для расчётов сохраним в отдельных переменных."
   ]
  },
  {
   "cell_type": "code",
   "execution_count": 26,
   "metadata": {},
   "outputs": [],
   "source": [
    "# бюджет на разработку скважин в регионе\n",
    "BUDZET = 10000000000\n",
    "\n",
    "# доход с каждой единицы продукта\n",
    "REVENUE_PER_UNIT = 450000\n",
    "\n",
    "# количество исследуемых скважин\n",
    "WELLS_STUDY = 500\n",
    "\n",
    "# количество лучших скважин\n",
    "WELLS_BEST = 200"
   ]
  },
  {
   "cell_type": "markdown",
   "metadata": {},
   "source": [
    "Рассчитаем достаточный объём сырья для безубыточной разработки новой скважины."
   ]
  },
  {
   "cell_type": "code",
   "execution_count": 27,
   "metadata": {},
   "outputs": [
    {
     "data": {
      "text/plain": [
       "111.11111111111111"
      ]
     },
     "execution_count": 27,
     "metadata": {},
     "output_type": "execute_result"
    }
   ],
   "source": [
    "# достаточный объём сырья для безубыточной разработки новой скважины\n",
    "BEZUB_VOL = BUDZET / (REVENUE_PER_UNIT * WELLS_BEST)\n",
    "BEZUB_VOL"
   ]
  },
  {
   "cell_type": "markdown",
   "metadata": {},
   "source": [
    "Достаточный объём сырья для безубыточной разработки новой скважины 111 тысяч баррелей, но ни в одном регионе по предсказанию модели нет достаточного объема сырья, в регионе geo_data_0 предсказанный объем сырья равен 92 тысячи баррелей, в регионе geo_data_1 - 69 тысяч баррелей, а в регионе geo_data_2 - 95 тысяч баррелей. Можем сделать вывод, что с точки зрения безубыточности, ни один из регионов не достигает необходимого уровня запасов сырья."
   ]
  },
  {
   "cell_type": "code",
   "execution_count": 28,
   "metadata": {},
   "outputs": [
    {
     "name": "stdout",
     "output_type": "stream",
     "text": [
      "\n",
      "Средний запас целевой переменной для региона geo_data_0: 92.32595637084387\n",
      "\n",
      "Средний запас целевой переменной для региона geo_data_1: 68.72538074722745\n",
      "\n",
      "Средний запас целевой переменной для региона geo_data_2: 95.15099907171961\n"
     ]
    }
   ],
   "source": [
    "# найдем средний запас целевой переменной для региона geo_data_0\n",
    "avg_0 = valid_geo_data_0['product'].mean()\n",
    "print(f\"\\nСредний запас целевой переменной для региона geo_data_0: {avg_0}\")\n",
    "# найдем средний запас целевой переменной для региона geo_data_1\n",
    "avg_1 = valid_geo_data_1['product'].mean()\n",
    "print(f\"\\nСредний запас целевой переменной для региона geo_data_1: {avg_1}\")\n",
    "# найдем средний запас целевой переменной для региона geo_data_2\n",
    "avg_2 = valid_geo_data_2['product'].mean()\n",
    "print(f\"\\nСредний запас целевой переменной для региона geo_data_2: {avg_2}\")"
   ]
  },
  {
   "cell_type": "markdown",
   "metadata": {},
   "source": [
    "Средний запас целевой переменной почти полностью совпадает со средним запасом предсказанной переменной, что так же недостаточно для безуыточной разработки новой скважины."
   ]
  },
  {
   "cell_type": "code",
   "execution_count": 29,
   "metadata": {},
   "outputs": [
    {
     "name": "stdout",
     "output_type": "stream",
     "text": [
      "\n",
      "Средний запас сырья 200 лучших скважин для региона geo_data_0: 148.434901271802\n",
      "\n",
      "Средний запас сырья 200 лучших скважин для региона geo_data_1: 137.9454077409057\n",
      "\n",
      "Средний запас сырья 200 лучших скважин для региона geo_data_2: 139.98413065971235\n"
     ]
    }
   ],
   "source": [
    "# сортируем данные по предсказанному объему сырья и выбираем 200 лучших скважин\n",
    "top_wells_0 = valid_geo_data_0.sort_values('prediction', ascending=False).head(200)\n",
    "top_wells_1 = valid_geo_data_1.sort_values('prediction', ascending=False).head(200)\n",
    "top_wells_2 = valid_geo_data_2.sort_values('prediction', ascending=False).head(200)\n",
    "\n",
    "# найдем средний запас предсказанного сырья 200 лучших скважин\n",
    "avg_top_0 = top_wells_0['product'].mean()\n",
    "print(f\"\\nСредний запас сырья 200 лучших скважин для региона geo_data_0: {avg_top_0}\")\n",
    "\n",
    "avg_top_1 = top_wells_1['product'].mean()\n",
    "print(f\"\\nСредний запас сырья 200 лучших скважин для региона geo_data_1: {avg_top_1}\")\n",
    "\n",
    "avg_top_2 = top_wells_2['product'].mean()\n",
    "print(f\"\\nСредний запас сырья 200 лучших скважин для региона geo_data_2: {avg_top_2}\")"
   ]
  },
  {
   "cell_type": "markdown",
   "metadata": {},
   "source": [
    "Картина меняется, если мы берем средний запас сырья только двухста предсказанных лучших скважин в каждом регионе. Теперь все регионы подходят для безубыточной разработки скважины."
   ]
  },
  {
   "cell_type": "markdown",
   "metadata": {},
   "source": [
    "## Расчёт прибыли и рисков "
   ]
  },
  {
   "cell_type": "markdown",
   "metadata": {},
   "source": [
    "Создадим функцию для расчёта прибыли по выбранным скважинам и предсказаниям модели."
   ]
  },
  {
   "cell_type": "code",
   "execution_count": 30,
   "metadata": {},
   "outputs": [
    {
     "name": "stdout",
     "output_type": "stream",
     "text": [
      "\n",
      "Прибыль с полученного сырья 200 лучших скважин для региона geo_data_0: 3359141114.462179\n",
      "\n",
      "Прибыль с полученного сырья 200 лучших скважин для региона geo_data_1: 2415086696.681511\n",
      "\n",
      "Прибыль с полученного сырья 200 лучших скважин для региона geo_data_2: 2598571759.374111\n"
     ]
    }
   ],
   "source": [
    "state = RandomState(123)\n",
    "\n",
    "def profit_calculation(data):\n",
    "        # выбираем лучшие скважины с максимальными значениями предсказаний\n",
    "        wells_special = data.sort_values(by='prediction', ascending=False).head(WELLS_BEST)\n",
    "        # просуммируем целевое значение объёма сырья, соответствующее этим предсказаниям\n",
    "        volume_best = wells_special['product'].sum()\n",
    "        # рассчитываем прибыль для полученного объёма сырья\n",
    "        profit = volume_best * REVENUE_PER_UNIT - BUDZET\n",
    "        return profit\n",
    "\n",
    "# рассчитаем прибыль с полученного сырья для региона geo_data_0\n",
    "profit_0 = profit_calculation(valid_geo_data_0)\n",
    "print(f\"\\nПрибыль с полученного сырья 200 лучших скважин для региона geo_data_0: {profit_0}\")\n",
    "\n",
    "# рассчитаем прибыль с полученного сырья для региона geo_data_1\n",
    "profit_1 = profit_calculation(valid_geo_data_1)\n",
    "print(f\"\\nПрибыль с полученного сырья 200 лучших скважин для региона geo_data_1: {profit_1}\")\n",
    "\n",
    "# рассчитаем прибыль с полученного сырья для региона geo_data_2\n",
    "profit_2 = profit_calculation(valid_geo_data_2)\n",
    "print(f\"\\nПрибыль с полученного сырья 200 лучших скважин для региона geo_data_2: {profit_2}\")"
   ]
  },
  {
   "cell_type": "markdown",
   "metadata": {},
   "source": [
    "Применим технику Bootstrap с 1000 выборок, чтобы найти распределение прибыли. Найдем среднюю прибыль, 95%-й доверительный интервал и риск убытков."
   ]
  },
  {
   "cell_type": "code",
   "execution_count": 31,
   "metadata": {},
   "outputs": [
    {
     "name": "stdout",
     "output_type": "stream",
     "text": [
      "\n",
      "Вывод прибыли и рисков для региона geo_data_0:\n",
      "Средняя прибыль: 401769373.69071746\n",
      "95%-й доверительный интервал (нижняя граница): -125162909.03105578\n",
      "95%-й доверительный интервал (верхняя граница): 904713873.3711025\n",
      "Риск убытков: 0.064\n",
      "\n",
      "Вывод прибыли и рисков для региона geo_data_1:\n",
      "Средняя прибыль: 448808590.59852433\n",
      "95%-й доверительный интервал (нижняя граница): 71768627.60362038\n",
      "95%-й доверительный интервал (верхняя граница): 860162397.7469591\n",
      "Риск убытков: 0.011\n",
      "\n",
      "Вывод прибыли и рисков для региона geo_data_2:\n",
      "Средняя прибыль: 376166422.2955545\n",
      "95%-й доверительный интервал (нижняя граница): -131499425.48209594\n",
      "95%-й доверительный интервал (верхняя граница): 886768344.9588202\n",
      "Риск убытков: 0.085\n"
     ]
    }
   ],
   "source": [
    "def bootstrap(data):\n",
    "        values = []\n",
    "        for i in range(1000):\n",
    "            subsample = data.sample(n=500, replace=True, random_state=state)\n",
    "            profit = profit_calculation(subsample)\n",
    "            values.append(profit)\n",
    "        values = pd.Series(values)\n",
    "        mean_profit = values.mean()\n",
    "        lower = values.quantile(0.025)\n",
    "        upper = values.quantile(0.975)\n",
    "        risk = (values < 0).mean()\n",
    "        return mean_profit, lower, upper, risk\n",
    "    \n",
    "mean_profit_0, lower_0, upper_0, risk_0 = bootstrap(valid_geo_data_0)\n",
    "print(f\"\\nВывод прибыли и рисков для региона geo_data_0:\")\n",
    "print(f\"Средняя прибыль: {mean_profit_0}\")\n",
    "print(f\"95%-й доверительный интервал (нижняя граница): {lower_0}\")\n",
    "print(f\"95%-й доверительный интервал (верхняя граница): {upper_0}\")\n",
    "print(f\"Риск убытков: {risk_0}\")\n",
    "\n",
    "mean_profit_1, lower_1, upper_1, risk_1 = bootstrap(valid_geo_data_1)\n",
    "print(f\"\\nВывод прибыли и рисков для региона geo_data_1:\")\n",
    "print(f\"Средняя прибыль: {mean_profit_1}\")\n",
    "print(f\"95%-й доверительный интервал (нижняя граница): {lower_1}\")\n",
    "print(f\"95%-й доверительный интервал (верхняя граница): {upper_1}\")\n",
    "print(f\"Риск убытков: {risk_1}\")\n",
    "\n",
    "mean_profit_2, lower_2, upper_2, risk_2 = bootstrap(valid_geo_data_2)\n",
    "print(f\"\\nВывод прибыли и рисков для региона geo_data_2:\")\n",
    "print(f\"Средняя прибыль: {mean_profit_2}\")\n",
    "print(f\"95%-й доверительный интервал (нижняя граница): {lower_2}\")\n",
    "print(f\"95%-й доверительный интервал (верхняя граница): {upper_2}\")\n",
    "print(f\"Риск убытков: {risk_2}\")"
   ]
  },
  {
   "cell_type": "markdown",
   "metadata": {},
   "source": [
    "На основании проведенного анализа, регион geo_data_1 является предпочтительным для разработки скважин. \n",
    "\n",
    "Во-первых, в этом регионе риск убытков меньше всего, составляет всего 0,011 или 1,1 %.\n",
    "\n",
    "Во-вторых, в этом регионе самая высокая средняя прибыль - 448808590 руб.\n",
    "\n",
    "И в-третьих, 95%-й доверительный интервал составляет от 71768628 до 860162398, что указывает на стабильность и надежность прогнозируемой прибыли."
   ]
  },
  {
   "cell_type": "markdown",
   "metadata": {},
   "source": [
    "В данной  работе нужно было решить, где бурить новую скважину добывающей компании «ГлавРосГосНефть».\n",
    "\n",
    "Нам были предоставлены пробы нефти в трёх регионах: в каждом 10 000 месторождений, где измерили качество нефти и объём её запасов.\n",
    "\n",
    "Мы провели загрузку, исследовательский и корреляционный анализ данных во всех трех регионах, а так же  подготовили данные к обучению. Так же мы построили модель машинного обучения, которая поможет определить регион, где добыча принесёт наибольшую прибыль. Проанализировали возможную прибыль и риски техникой Bootstrap.\n",
    "\n",
    "На основании проведенного анализа, мы предполагаем, что регион geo_data_1 является наиболее предпочтительным для разработки скважин. В этом регионе риск убытков меньше всего, составляет всего 0,011 или 1,1 %., так же в этом регионе самая высокая средняя прибыль - 448808590 руб и 95%-й доверительный интервал составляет от 71768628 до 860162398, что указывает на стабильность и надежность прогнозируемой прибыли."
   ]
  },
  {
   "cell_type": "code",
   "execution_count": null,
   "metadata": {},
   "outputs": [],
   "source": []
  }
 ],
 "metadata": {
  "ExecuteTimeLog": [
   {
    "duration": 419,
    "start_time": "2025-03-27T13:18:18.412Z"
   },
   {
    "duration": 148,
    "start_time": "2025-03-27T13:18:20.523Z"
   },
   {
    "duration": 18,
    "start_time": "2025-03-27T13:19:01.410Z"
   },
   {
    "duration": 133,
    "start_time": "2025-03-27T13:20:08.691Z"
   },
   {
    "duration": 14,
    "start_time": "2025-03-27T13:20:17.579Z"
   },
   {
    "duration": 139,
    "start_time": "2025-03-27T13:20:53.091Z"
   },
   {
    "duration": 14,
    "start_time": "2025-03-27T13:20:57.231Z"
   },
   {
    "duration": 123,
    "start_time": "2025-03-27T13:33:35.659Z"
   },
   {
    "duration": 753,
    "start_time": "2025-03-27T13:46:48.199Z"
   },
   {
    "duration": 16,
    "start_time": "2025-03-27T13:46:57.420Z"
   },
   {
    "duration": 15,
    "start_time": "2025-03-27T13:46:58.160Z"
   },
   {
    "duration": 15,
    "start_time": "2025-03-27T13:46:59.508Z"
   },
   {
    "duration": 1117,
    "start_time": "2025-03-28T10:20:49.307Z"
   },
   {
    "duration": 150,
    "start_time": "2025-03-28T10:20:50.425Z"
   },
   {
    "duration": 15,
    "start_time": "2025-03-28T10:20:50.577Z"
   },
   {
    "duration": 138,
    "start_time": "2025-03-28T10:20:50.594Z"
   },
   {
    "duration": 14,
    "start_time": "2025-03-28T10:20:50.733Z"
   },
   {
    "duration": 140,
    "start_time": "2025-03-28T10:20:50.749Z"
   },
   {
    "duration": 14,
    "start_time": "2025-03-28T10:20:50.890Z"
   },
   {
    "duration": 147,
    "start_time": "2025-03-28T10:20:50.905Z"
   },
   {
    "duration": 38,
    "start_time": "2025-03-28T10:20:51.053Z"
   },
   {
    "duration": 2,
    "start_time": "2025-03-28T10:31:08.537Z"
   },
   {
    "duration": 46,
    "start_time": "2025-03-28T10:31:17.606Z"
   },
   {
    "duration": 101,
    "start_time": "2025-03-28T10:47:39.608Z"
   },
   {
    "duration": 22,
    "start_time": "2025-03-28T10:48:08.496Z"
   },
   {
    "duration": 179,
    "start_time": "2025-03-28T10:48:13.652Z"
   },
   {
    "duration": 16,
    "start_time": "2025-03-28T10:49:26.583Z"
   },
   {
    "duration": 142,
    "start_time": "2025-03-28T10:49:30.589Z"
   },
   {
    "duration": 11,
    "start_time": "2025-03-28T10:49:33.308Z"
   },
   {
    "duration": 225,
    "start_time": "2025-03-28T10:50:01.506Z"
   },
   {
    "duration": 12,
    "start_time": "2025-03-28T10:53:23.508Z"
   },
   {
    "duration": 13,
    "start_time": "2025-03-28T10:56:43.810Z"
   },
   {
    "duration": 13,
    "start_time": "2025-03-28T10:57:34.030Z"
   },
   {
    "duration": 11,
    "start_time": "2025-03-28T10:57:39.879Z"
   },
   {
    "duration": 4,
    "start_time": "2025-03-28T11:44:41.026Z"
   },
   {
    "duration": 3,
    "start_time": "2025-03-28T11:51:34.335Z"
   },
   {
    "duration": 5,
    "start_time": "2025-03-28T11:51:42.025Z"
   },
   {
    "duration": 3,
    "start_time": "2025-03-28T11:52:17.744Z"
   },
   {
    "duration": 5,
    "start_time": "2025-03-28T11:52:29.624Z"
   },
   {
    "duration": 19,
    "start_time": "2025-03-28T11:59:14.006Z"
   },
   {
    "duration": 14,
    "start_time": "2025-03-28T12:03:13.022Z"
   },
   {
    "duration": 14,
    "start_time": "2025-03-28T12:05:09.411Z"
   },
   {
    "duration": 14,
    "start_time": "2025-03-28T12:05:15.699Z"
   },
   {
    "duration": 15,
    "start_time": "2025-03-28T12:05:21.587Z"
   },
   {
    "duration": 18,
    "start_time": "2025-03-28T12:06:19.251Z"
   },
   {
    "duration": 16,
    "start_time": "2025-03-28T12:08:17.040Z"
   },
   {
    "duration": 16,
    "start_time": "2025-03-28T12:09:46.513Z"
   },
   {
    "duration": 1108,
    "start_time": "2025-03-31T10:57:06.551Z"
   },
   {
    "duration": 139,
    "start_time": "2025-03-31T10:57:07.661Z"
   },
   {
    "duration": 14,
    "start_time": "2025-03-31T10:57:07.802Z"
   },
   {
    "duration": 129,
    "start_time": "2025-03-31T10:57:07.818Z"
   },
   {
    "duration": 13,
    "start_time": "2025-03-31T10:57:07.948Z"
   },
   {
    "duration": 231,
    "start_time": "2025-03-31T10:57:07.963Z"
   },
   {
    "duration": 14,
    "start_time": "2025-03-31T10:57:08.195Z"
   },
   {
    "duration": 127,
    "start_time": "2025-03-31T10:57:08.210Z"
   },
   {
    "duration": 45,
    "start_time": "2025-03-31T10:57:08.339Z"
   },
   {
    "duration": 37,
    "start_time": "2025-03-31T10:57:08.386Z"
   },
   {
    "duration": 254,
    "start_time": "2025-03-31T10:57:08.424Z"
   },
   {
    "duration": 103,
    "start_time": "2025-03-31T10:57:08.680Z"
   },
   {
    "duration": 106,
    "start_time": "2025-03-31T10:57:08.785Z"
   },
   {
    "duration": 16,
    "start_time": "2025-03-31T10:57:08.893Z"
   },
   {
    "duration": 7,
    "start_time": "2025-03-31T10:57:08.910Z"
   },
   {
    "duration": 4,
    "start_time": "2025-03-31T11:03:24.219Z"
   },
   {
    "duration": 2,
    "start_time": "2025-03-31T11:04:15.770Z"
   },
   {
    "duration": 4,
    "start_time": "2025-03-31T11:04:18.356Z"
   },
   {
    "duration": 3,
    "start_time": "2025-03-31T12:35:36.925Z"
   },
   {
    "duration": 4,
    "start_time": "2025-03-31T12:35:38.102Z"
   },
   {
    "duration": 3,
    "start_time": "2025-03-31T12:35:45.040Z"
   },
   {
    "duration": 4,
    "start_time": "2025-03-31T12:35:45.921Z"
   },
   {
    "duration": 17,
    "start_time": "2025-03-31T13:10:08.336Z"
   },
   {
    "duration": 15,
    "start_time": "2025-03-31T13:12:39.107Z"
   },
   {
    "duration": 14,
    "start_time": "2025-03-31T13:13:25.843Z"
   },
   {
    "duration": 15,
    "start_time": "2025-03-31T13:14:50.157Z"
   },
   {
    "duration": 97,
    "start_time": "2025-03-31T13:43:02.333Z"
   },
   {
    "duration": 3,
    "start_time": "2025-03-31T13:43:05.392Z"
   },
   {
    "duration": 3,
    "start_time": "2025-03-31T13:43:07.323Z"
   },
   {
    "duration": 16,
    "start_time": "2025-03-31T13:43:12.192Z"
   },
   {
    "duration": 3,
    "start_time": "2025-03-31T13:53:57.928Z"
   },
   {
    "duration": 3,
    "start_time": "2025-03-31T13:54:02.176Z"
   },
   {
    "duration": 11,
    "start_time": "2025-03-31T13:56:14.775Z"
   },
   {
    "duration": 4,
    "start_time": "2025-03-31T13:56:41.460Z"
   },
   {
    "duration": 8,
    "start_time": "2025-03-31T13:56:45.951Z"
   },
   {
    "duration": 14,
    "start_time": "2025-03-31T13:59:39.969Z"
   },
   {
    "duration": 3,
    "start_time": "2025-03-31T14:06:02.690Z"
   },
   {
    "duration": 14,
    "start_time": "2025-03-31T14:06:07.089Z"
   },
   {
    "duration": 12557,
    "start_time": "2025-03-31T14:15:02.654Z"
   },
   {
    "duration": 12769,
    "start_time": "2025-03-31T14:21:01.202Z"
   },
   {
    "duration": 532794,
    "start_time": "2025-03-31T14:22:02.123Z"
   },
   {
    "duration": 1056,
    "start_time": "2025-03-31T14:31:41.615Z"
   },
   {
    "duration": 147,
    "start_time": "2025-03-31T14:31:42.673Z"
   },
   {
    "duration": 14,
    "start_time": "2025-03-31T14:31:42.821Z"
   },
   {
    "duration": 128,
    "start_time": "2025-03-31T14:31:42.837Z"
   },
   {
    "duration": 13,
    "start_time": "2025-03-31T14:31:42.967Z"
   },
   {
    "duration": 220,
    "start_time": "2025-03-31T14:31:42.981Z"
   },
   {
    "duration": 13,
    "start_time": "2025-03-31T14:31:43.202Z"
   },
   {
    "duration": 136,
    "start_time": "2025-03-31T14:31:43.217Z"
   },
   {
    "duration": 47,
    "start_time": "2025-03-31T14:31:43.355Z"
   },
   {
    "duration": 40,
    "start_time": "2025-03-31T14:31:43.404Z"
   },
   {
    "duration": 231,
    "start_time": "2025-03-31T14:31:43.446Z"
   },
   {
    "duration": 109,
    "start_time": "2025-03-31T14:31:43.680Z"
   },
   {
    "duration": 97,
    "start_time": "2025-03-31T14:31:43.791Z"
   },
   {
    "duration": 27,
    "start_time": "2025-03-31T14:31:43.890Z"
   },
   {
    "duration": 16,
    "start_time": "2025-03-31T14:31:43.918Z"
   },
   {
    "duration": 9,
    "start_time": "2025-03-31T14:31:43.935Z"
   },
   {
    "duration": 23,
    "start_time": "2025-03-31T14:31:43.946Z"
   },
   {
    "duration": 19,
    "start_time": "2025-03-31T14:31:43.971Z"
   },
   {
    "duration": 6798,
    "start_time": "2025-03-31T14:31:43.991Z"
   },
   {
    "duration": 110,
    "start_time": "2025-03-31T14:31:50.791Z"
   },
   {
    "duration": 26469,
    "start_time": "2025-03-31T14:32:22.086Z"
   },
   {
    "duration": 6825,
    "start_time": "2025-03-31T14:32:56.265Z"
   },
   {
    "duration": 1159,
    "start_time": "2025-03-31T14:33:21.284Z"
   },
   {
    "duration": 156,
    "start_time": "2025-03-31T14:33:22.444Z"
   },
   {
    "duration": 14,
    "start_time": "2025-03-31T14:33:22.603Z"
   },
   {
    "duration": 198,
    "start_time": "2025-03-31T14:33:22.619Z"
   },
   {
    "duration": 13,
    "start_time": "2025-03-31T14:33:22.818Z"
   },
   {
    "duration": 157,
    "start_time": "2025-03-31T14:33:22.833Z"
   },
   {
    "duration": 15,
    "start_time": "2025-03-31T14:33:22.992Z"
   },
   {
    "duration": 188,
    "start_time": "2025-03-31T14:33:23.009Z"
   },
   {
    "duration": 39,
    "start_time": "2025-03-31T14:33:23.198Z"
   },
   {
    "duration": 55,
    "start_time": "2025-03-31T14:33:23.239Z"
   },
   {
    "duration": 94,
    "start_time": "2025-03-31T14:33:23.296Z"
   },
   {
    "duration": 100,
    "start_time": "2025-03-31T14:33:23.391Z"
   },
   {
    "duration": 101,
    "start_time": "2025-03-31T14:33:23.494Z"
   },
   {
    "duration": 119,
    "start_time": "2025-03-31T14:33:23.596Z"
   },
   {
    "duration": 11,
    "start_time": "2025-03-31T14:33:23.717Z"
   },
   {
    "duration": 19,
    "start_time": "2025-03-31T14:33:23.729Z"
   },
   {
    "duration": 19,
    "start_time": "2025-03-31T14:33:23.750Z"
   },
   {
    "duration": 20,
    "start_time": "2025-03-31T14:33:23.771Z"
   },
   {
    "duration": 7059,
    "start_time": "2025-03-31T14:33:23.793Z"
   },
   {
    "duration": 127,
    "start_time": "2025-03-31T14:33:30.854Z"
   },
   {
    "duration": 1048,
    "start_time": "2025-03-31T14:42:49.230Z"
   },
   {
    "duration": 159,
    "start_time": "2025-03-31T14:42:50.285Z"
   },
   {
    "duration": 14,
    "start_time": "2025-03-31T14:42:50.445Z"
   },
   {
    "duration": 152,
    "start_time": "2025-03-31T14:42:50.460Z"
   },
   {
    "duration": 13,
    "start_time": "2025-03-31T14:42:50.614Z"
   },
   {
    "duration": 234,
    "start_time": "2025-03-31T14:42:50.629Z"
   },
   {
    "duration": 22,
    "start_time": "2025-03-31T14:42:50.865Z"
   },
   {
    "duration": 176,
    "start_time": "2025-03-31T14:42:50.889Z"
   },
   {
    "duration": 98,
    "start_time": "2025-03-31T14:42:51.067Z"
   },
   {
    "duration": 40,
    "start_time": "2025-03-31T14:42:51.167Z"
   },
   {
    "duration": 173,
    "start_time": "2025-03-31T14:42:51.209Z"
   },
   {
    "duration": 209,
    "start_time": "2025-03-31T14:42:51.384Z"
   },
   {
    "duration": 46,
    "start_time": "2025-03-31T14:42:51.595Z"
   },
   {
    "duration": 151,
    "start_time": "2025-03-31T14:42:51.644Z"
   },
   {
    "duration": 7,
    "start_time": "2025-03-31T14:42:51.797Z"
   },
   {
    "duration": 34,
    "start_time": "2025-03-31T14:42:51.806Z"
   },
   {
    "duration": 46,
    "start_time": "2025-03-31T14:42:51.842Z"
   },
   {
    "duration": 19,
    "start_time": "2025-03-31T14:42:51.890Z"
   },
   {
    "duration": 6931,
    "start_time": "2025-03-31T14:42:51.911Z"
   },
   {
    "duration": 2000,
    "start_time": "2025-03-31T17:49:14.114Z"
   },
   {
    "duration": 176,
    "start_time": "2025-03-31T17:49:16.116Z"
   },
   {
    "duration": 17,
    "start_time": "2025-03-31T17:49:16.294Z"
   },
   {
    "duration": 149,
    "start_time": "2025-03-31T17:49:16.313Z"
   },
   {
    "duration": 13,
    "start_time": "2025-03-31T17:49:16.464Z"
   },
   {
    "duration": 159,
    "start_time": "2025-03-31T17:49:16.479Z"
   },
   {
    "duration": 13,
    "start_time": "2025-03-31T17:49:16.640Z"
   },
   {
    "duration": 134,
    "start_time": "2025-03-31T17:49:16.655Z"
   },
   {
    "duration": 46,
    "start_time": "2025-03-31T17:49:16.790Z"
   },
   {
    "duration": 43,
    "start_time": "2025-03-31T17:49:16.838Z"
   },
   {
    "duration": 223,
    "start_time": "2025-03-31T17:49:16.882Z"
   },
   {
    "duration": 109,
    "start_time": "2025-03-31T17:49:17.107Z"
   },
   {
    "duration": 145,
    "start_time": "2025-03-31T17:49:17.217Z"
   },
   {
    "duration": 36,
    "start_time": "2025-03-31T17:49:17.365Z"
   },
   {
    "duration": 50,
    "start_time": "2025-03-31T17:49:17.402Z"
   },
   {
    "duration": 46,
    "start_time": "2025-03-31T17:49:17.453Z"
   },
   {
    "duration": 45,
    "start_time": "2025-03-31T17:49:17.500Z"
   },
   {
    "duration": 22,
    "start_time": "2025-03-31T17:49:17.547Z"
   },
   {
    "duration": 6806,
    "start_time": "2025-03-31T17:49:17.571Z"
   },
   {
    "duration": 94,
    "start_time": "2025-03-31T17:51:02.625Z"
   },
   {
    "duration": 3,
    "start_time": "2025-03-31T17:51:12.656Z"
   },
   {
    "duration": 154,
    "start_time": "2025-03-31T17:51:12.661Z"
   },
   {
    "duration": 14,
    "start_time": "2025-03-31T17:51:12.817Z"
   },
   {
    "duration": 143,
    "start_time": "2025-03-31T17:51:12.833Z"
   },
   {
    "duration": 24,
    "start_time": "2025-03-31T17:51:12.979Z"
   },
   {
    "duration": 148,
    "start_time": "2025-03-31T17:51:13.005Z"
   },
   {
    "duration": 17,
    "start_time": "2025-03-31T17:51:13.155Z"
   },
   {
    "duration": 154,
    "start_time": "2025-03-31T17:51:13.174Z"
   },
   {
    "duration": 35,
    "start_time": "2025-03-31T17:51:13.330Z"
   },
   {
    "duration": 56,
    "start_time": "2025-03-31T17:51:13.366Z"
   },
   {
    "duration": 181,
    "start_time": "2025-03-31T17:51:13.424Z"
   },
   {
    "duration": 196,
    "start_time": "2025-03-31T17:51:13.608Z"
   },
   {
    "duration": 22,
    "start_time": "2025-03-31T17:51:13.806Z"
   },
   {
    "duration": 15,
    "start_time": "2025-03-31T17:51:13.830Z"
   },
   {
    "duration": 58,
    "start_time": "2025-03-31T17:51:13.846Z"
   },
   {
    "duration": 14,
    "start_time": "2025-03-31T17:51:13.906Z"
   },
   {
    "duration": 23,
    "start_time": "2025-03-31T17:51:13.921Z"
   },
   {
    "duration": 59,
    "start_time": "2025-03-31T17:51:13.945Z"
   },
   {
    "duration": 7500,
    "start_time": "2025-03-31T17:51:14.006Z"
   },
   {
    "duration": 49,
    "start_time": "2025-04-01T09:23:21.116Z"
   },
   {
    "duration": 1095,
    "start_time": "2025-04-01T09:23:36.328Z"
   },
   {
    "duration": 164,
    "start_time": "2025-04-01T09:23:37.425Z"
   },
   {
    "duration": 17,
    "start_time": "2025-04-01T09:23:37.591Z"
   },
   {
    "duration": 157,
    "start_time": "2025-04-01T09:23:37.611Z"
   },
   {
    "duration": 16,
    "start_time": "2025-04-01T09:23:37.770Z"
   },
   {
    "duration": 160,
    "start_time": "2025-04-01T09:23:37.788Z"
   },
   {
    "duration": 15,
    "start_time": "2025-04-01T09:23:37.949Z"
   },
   {
    "duration": 147,
    "start_time": "2025-04-01T09:23:37.966Z"
   },
   {
    "duration": 16,
    "start_time": "2025-04-01T09:23:38.114Z"
   },
   {
    "duration": 131,
    "start_time": "2025-04-01T09:23:38.133Z"
   },
   {
    "duration": 0,
    "start_time": "2025-04-01T09:23:38.266Z"
   },
   {
    "duration": 0,
    "start_time": "2025-04-01T09:23:38.267Z"
   },
   {
    "duration": 0,
    "start_time": "2025-04-01T09:23:38.269Z"
   },
   {
    "duration": 0,
    "start_time": "2025-04-01T09:23:38.270Z"
   },
   {
    "duration": 0,
    "start_time": "2025-04-01T09:23:38.271Z"
   },
   {
    "duration": 0,
    "start_time": "2025-04-01T09:23:38.272Z"
   },
   {
    "duration": 0,
    "start_time": "2025-04-01T09:23:38.273Z"
   },
   {
    "duration": 0,
    "start_time": "2025-04-01T09:23:38.274Z"
   },
   {
    "duration": 0,
    "start_time": "2025-04-01T09:23:38.275Z"
   },
   {
    "duration": 0,
    "start_time": "2025-04-01T09:23:38.276Z"
   },
   {
    "duration": 0,
    "start_time": "2025-04-01T09:23:38.277Z"
   },
   {
    "duration": 9,
    "start_time": "2025-04-01T09:24:37.228Z"
   },
   {
    "duration": 4,
    "start_time": "2025-04-01T09:24:42.694Z"
   },
   {
    "duration": 19,
    "start_time": "2025-04-01T09:25:08.350Z"
   },
   {
    "duration": 9,
    "start_time": "2025-04-01T09:25:28.258Z"
   },
   {
    "duration": 459,
    "start_time": "2025-04-01T09:25:47.964Z"
   },
   {
    "duration": 130,
    "start_time": "2025-04-01T09:25:51.818Z"
   },
   {
    "duration": 69,
    "start_time": "2025-04-01T09:26:18.527Z"
   },
   {
    "duration": 137,
    "start_time": "2025-04-01T09:26:25.110Z"
   },
   {
    "duration": 3428,
    "start_time": "2025-04-01T09:26:51.036Z"
   },
   {
    "duration": 15,
    "start_time": "2025-04-01T09:27:49.290Z"
   },
   {
    "duration": 1491,
    "start_time": "2025-04-01T09:28:31.743Z"
   },
   {
    "duration": 0,
    "start_time": "2025-04-01T09:28:33.237Z"
   },
   {
    "duration": 0,
    "start_time": "2025-04-01T09:28:33.238Z"
   },
   {
    "duration": 0,
    "start_time": "2025-04-01T09:28:33.239Z"
   },
   {
    "duration": 0,
    "start_time": "2025-04-01T09:28:33.239Z"
   },
   {
    "duration": 0,
    "start_time": "2025-04-01T09:28:33.241Z"
   },
   {
    "duration": 0,
    "start_time": "2025-04-01T09:28:33.241Z"
   },
   {
    "duration": 0,
    "start_time": "2025-04-01T09:28:33.242Z"
   },
   {
    "duration": 0,
    "start_time": "2025-04-01T09:28:33.243Z"
   },
   {
    "duration": 0,
    "start_time": "2025-04-01T09:28:33.244Z"
   },
   {
    "duration": 0,
    "start_time": "2025-04-01T09:28:33.245Z"
   },
   {
    "duration": 0,
    "start_time": "2025-04-01T09:28:33.246Z"
   },
   {
    "duration": 0,
    "start_time": "2025-04-01T09:28:33.247Z"
   },
   {
    "duration": 0,
    "start_time": "2025-04-01T09:28:33.248Z"
   },
   {
    "duration": 0,
    "start_time": "2025-04-01T09:28:33.249Z"
   },
   {
    "duration": 0,
    "start_time": "2025-04-01T09:28:33.250Z"
   },
   {
    "duration": 0,
    "start_time": "2025-04-01T09:28:33.251Z"
   },
   {
    "duration": 0,
    "start_time": "2025-04-01T09:28:33.252Z"
   },
   {
    "duration": 0,
    "start_time": "2025-04-01T09:28:33.253Z"
   },
   {
    "duration": 0,
    "start_time": "2025-04-01T09:28:33.254Z"
   },
   {
    "duration": 0,
    "start_time": "2025-04-01T09:28:33.255Z"
   },
   {
    "duration": 3463,
    "start_time": "2025-04-01T09:29:06.521Z"
   },
   {
    "duration": 2505,
    "start_time": "2025-04-01T09:29:15.138Z"
   },
   {
    "duration": 1411,
    "start_time": "2025-04-01T09:29:17.646Z"
   },
   {
    "duration": 156,
    "start_time": "2025-04-01T09:29:19.059Z"
   },
   {
    "duration": 15,
    "start_time": "2025-04-01T09:29:19.217Z"
   },
   {
    "duration": 146,
    "start_time": "2025-04-01T09:29:19.234Z"
   },
   {
    "duration": 15,
    "start_time": "2025-04-01T09:29:19.381Z"
   },
   {
    "duration": 167,
    "start_time": "2025-04-01T09:29:19.406Z"
   },
   {
    "duration": 15,
    "start_time": "2025-04-01T09:29:19.574Z"
   },
   {
    "duration": 147,
    "start_time": "2025-04-01T09:29:19.590Z"
   },
   {
    "duration": 12,
    "start_time": "2025-04-01T09:29:19.740Z"
   },
   {
    "duration": 3495,
    "start_time": "2025-04-01T09:29:19.754Z"
   },
   {
    "duration": 41,
    "start_time": "2025-04-01T09:29:23.251Z"
   },
   {
    "duration": 42,
    "start_time": "2025-04-01T09:29:23.304Z"
   },
   {
    "duration": 159,
    "start_time": "2025-04-01T09:29:23.348Z"
   },
   {
    "duration": 205,
    "start_time": "2025-04-01T09:29:23.509Z"
   },
   {
    "duration": 15,
    "start_time": "2025-04-01T09:29:23.715Z"
   },
   {
    "duration": 89,
    "start_time": "2025-04-01T09:29:23.732Z"
   },
   {
    "duration": 3,
    "start_time": "2025-04-01T09:29:23.823Z"
   },
   {
    "duration": 7,
    "start_time": "2025-04-01T09:29:23.827Z"
   },
   {
    "duration": 77,
    "start_time": "2025-04-01T09:29:23.836Z"
   },
   {
    "duration": 19,
    "start_time": "2025-04-01T09:29:23.915Z"
   },
   {
    "duration": 7674,
    "start_time": "2025-04-01T09:29:23.936Z"
   },
   {
    "duration": 89,
    "start_time": "2025-04-01T09:31:43.814Z"
   },
   {
    "duration": 2513,
    "start_time": "2025-04-01T09:35:15.650Z"
   },
   {
    "duration": 1786,
    "start_time": "2025-04-01T09:35:18.166Z"
   },
   {
    "duration": 288,
    "start_time": "2025-04-01T09:35:19.953Z"
   },
   {
    "duration": 72,
    "start_time": "2025-04-01T09:35:20.243Z"
   },
   {
    "duration": 289,
    "start_time": "2025-04-01T09:35:20.317Z"
   },
   {
    "duration": 15,
    "start_time": "2025-04-01T09:35:20.608Z"
   },
   {
    "duration": 268,
    "start_time": "2025-04-01T09:35:20.624Z"
   },
   {
    "duration": 23,
    "start_time": "2025-04-01T09:35:20.893Z"
   },
   {
    "duration": 140,
    "start_time": "2025-04-01T09:35:20.917Z"
   },
   {
    "duration": 13,
    "start_time": "2025-04-01T09:35:21.060Z"
   },
   {
    "duration": 3366,
    "start_time": "2025-04-01T09:35:21.075Z"
   },
   {
    "duration": 41,
    "start_time": "2025-04-01T09:35:24.443Z"
   },
   {
    "duration": 52,
    "start_time": "2025-04-01T09:35:24.486Z"
   },
   {
    "duration": 167,
    "start_time": "2025-04-01T09:35:24.540Z"
   },
   {
    "duration": 110,
    "start_time": "2025-04-01T09:35:24.709Z"
   },
   {
    "duration": 17,
    "start_time": "2025-04-01T09:35:24.821Z"
   },
   {
    "duration": 74,
    "start_time": "2025-04-01T09:35:24.840Z"
   },
   {
    "duration": 3,
    "start_time": "2025-04-01T09:35:24.916Z"
   },
   {
    "duration": 11,
    "start_time": "2025-04-01T09:35:24.921Z"
   },
   {
    "duration": 24,
    "start_time": "2025-04-01T09:35:24.934Z"
   },
   {
    "duration": 45,
    "start_time": "2025-04-01T09:35:24.960Z"
   },
   {
    "duration": 7167,
    "start_time": "2025-04-01T09:35:25.007Z"
   },
   {
    "duration": 3533,
    "start_time": "2025-04-01T09:36:36.108Z"
   },
   {
    "duration": 3921,
    "start_time": "2025-04-01T09:36:41.922Z"
   },
   {
    "duration": 283,
    "start_time": "2025-04-01T09:38:22.051Z"
   },
   {
    "duration": 344,
    "start_time": "2025-04-01T09:38:44.185Z"
   },
   {
    "duration": 333,
    "start_time": "2025-04-01T09:38:58.174Z"
   },
   {
    "duration": 2477,
    "start_time": "2025-04-01T09:40:08.162Z"
   },
   {
    "duration": 1418,
    "start_time": "2025-04-01T09:40:10.642Z"
   },
   {
    "duration": 150,
    "start_time": "2025-04-01T09:40:12.062Z"
   },
   {
    "duration": 16,
    "start_time": "2025-04-01T09:40:12.214Z"
   },
   {
    "duration": 142,
    "start_time": "2025-04-01T09:40:12.232Z"
   },
   {
    "duration": 15,
    "start_time": "2025-04-01T09:40:12.375Z"
   },
   {
    "duration": 155,
    "start_time": "2025-04-01T09:40:12.391Z"
   },
   {
    "duration": 14,
    "start_time": "2025-04-01T09:40:12.547Z"
   },
   {
    "duration": 145,
    "start_time": "2025-04-01T09:40:12.563Z"
   },
   {
    "duration": 12,
    "start_time": "2025-04-01T09:40:12.711Z"
   },
   {
    "duration": 3424,
    "start_time": "2025-04-01T09:40:12.725Z"
   },
   {
    "duration": 379,
    "start_time": "2025-04-01T09:40:16.151Z"
   },
   {
    "duration": 516,
    "start_time": "2025-04-01T09:40:16.531Z"
   },
   {
    "duration": 4171,
    "start_time": "2025-04-01T09:40:17.049Z"
   },
   {
    "duration": 296,
    "start_time": "2025-04-01T09:40:21.222Z"
   },
   {
    "duration": 324,
    "start_time": "2025-04-01T09:40:21.520Z"
   },
   {
    "duration": 4386,
    "start_time": "2025-04-01T09:40:21.845Z"
   },
   {
    "duration": 289,
    "start_time": "2025-04-01T09:40:26.233Z"
   },
   {
    "duration": 307,
    "start_time": "2025-04-01T09:40:26.524Z"
   },
   {
    "duration": 34,
    "start_time": "2025-04-01T09:40:26.832Z"
   },
   {
    "duration": 52,
    "start_time": "2025-04-01T09:40:26.868Z"
   },
   {
    "duration": 192,
    "start_time": "2025-04-01T09:40:26.922Z"
   },
   {
    "duration": 109,
    "start_time": "2025-04-01T09:40:27.207Z"
   },
   {
    "duration": 14,
    "start_time": "2025-04-01T09:40:27.318Z"
   },
   {
    "duration": 14,
    "start_time": "2025-04-01T09:40:27.334Z"
   },
   {
    "duration": 10,
    "start_time": "2025-04-01T09:40:27.350Z"
   },
   {
    "duration": 11,
    "start_time": "2025-04-01T09:40:27.361Z"
   },
   {
    "duration": 48,
    "start_time": "2025-04-01T09:40:27.375Z"
   },
   {
    "duration": 15,
    "start_time": "2025-04-01T09:40:27.425Z"
   },
   {
    "duration": 7179,
    "start_time": "2025-04-01T09:40:27.441Z"
   },
   {
    "duration": 2509,
    "start_time": "2025-04-01T09:56:32.362Z"
   },
   {
    "duration": 2132,
    "start_time": "2025-04-01T09:56:34.873Z"
   },
   {
    "duration": 151,
    "start_time": "2025-04-01T09:56:37.007Z"
   },
   {
    "duration": 15,
    "start_time": "2025-04-01T09:56:37.160Z"
   },
   {
    "duration": 145,
    "start_time": "2025-04-01T09:56:37.177Z"
   },
   {
    "duration": 14,
    "start_time": "2025-04-01T09:56:37.323Z"
   },
   {
    "duration": 150,
    "start_time": "2025-04-01T09:56:37.339Z"
   },
   {
    "duration": 22,
    "start_time": "2025-04-01T09:56:37.491Z"
   },
   {
    "duration": 223,
    "start_time": "2025-04-01T09:56:37.515Z"
   },
   {
    "duration": 20,
    "start_time": "2025-04-01T09:56:37.741Z"
   },
   {
    "duration": 3378,
    "start_time": "2025-04-01T09:56:37.762Z"
   },
   {
    "duration": 293,
    "start_time": "2025-04-01T09:56:41.142Z"
   },
   {
    "duration": 303,
    "start_time": "2025-04-01T09:56:41.436Z"
   },
   {
    "duration": 3797,
    "start_time": "2025-04-01T09:56:41.741Z"
   },
   {
    "duration": 295,
    "start_time": "2025-04-01T09:56:45.539Z"
   },
   {
    "duration": 318,
    "start_time": "2025-04-01T09:56:45.835Z"
   },
   {
    "duration": 4050,
    "start_time": "2025-04-01T09:56:46.155Z"
   },
   {
    "duration": 275,
    "start_time": "2025-04-01T09:56:50.207Z"
   },
   {
    "duration": 337,
    "start_time": "2025-04-01T09:56:50.484Z"
   },
   {
    "duration": 34,
    "start_time": "2025-04-01T09:56:50.823Z"
   },
   {
    "duration": 222,
    "start_time": "2025-04-01T09:56:50.859Z"
   },
   {
    "duration": 123,
    "start_time": "2025-04-01T09:56:51.083Z"
   },
   {
    "duration": 110,
    "start_time": "2025-04-01T09:56:51.209Z"
   },
   {
    "duration": 97,
    "start_time": "2025-04-01T09:56:51.322Z"
   },
   {
    "duration": 26,
    "start_time": "2025-04-01T09:56:51.420Z"
   },
   {
    "duration": 12,
    "start_time": "2025-04-01T09:56:51.448Z"
   },
   {
    "duration": 5,
    "start_time": "2025-04-01T09:56:51.462Z"
   },
   {
    "duration": 35,
    "start_time": "2025-04-01T09:56:51.470Z"
   },
   {
    "duration": 13,
    "start_time": "2025-04-01T09:56:51.507Z"
   },
   {
    "duration": 7119,
    "start_time": "2025-04-01T09:56:51.522Z"
   },
   {
    "duration": 7,
    "start_time": "2025-04-01T10:07:45.440Z"
   },
   {
    "duration": 2542,
    "start_time": "2025-04-01T10:08:10.114Z"
   },
   {
    "duration": 1430,
    "start_time": "2025-04-01T10:08:12.659Z"
   },
   {
    "duration": 154,
    "start_time": "2025-04-01T10:08:14.090Z"
   },
   {
    "duration": 16,
    "start_time": "2025-04-01T10:08:14.246Z"
   },
   {
    "duration": 143,
    "start_time": "2025-04-01T10:08:14.263Z"
   },
   {
    "duration": 15,
    "start_time": "2025-04-01T10:08:14.407Z"
   },
   {
    "duration": 272,
    "start_time": "2025-04-01T10:08:14.423Z"
   },
   {
    "duration": 18,
    "start_time": "2025-04-01T10:08:14.697Z"
   },
   {
    "duration": 133,
    "start_time": "2025-04-01T10:08:14.717Z"
   },
   {
    "duration": 13,
    "start_time": "2025-04-01T10:08:14.853Z"
   },
   {
    "duration": 3589,
    "start_time": "2025-04-01T10:08:14.867Z"
   },
   {
    "duration": 296,
    "start_time": "2025-04-01T10:08:18.457Z"
   },
   {
    "duration": 356,
    "start_time": "2025-04-01T10:08:18.756Z"
   },
   {
    "duration": 4755,
    "start_time": "2025-04-01T10:08:19.114Z"
   },
   {
    "duration": 287,
    "start_time": "2025-04-01T10:08:23.871Z"
   },
   {
    "duration": 353,
    "start_time": "2025-04-01T10:08:24.160Z"
   },
   {
    "duration": 4202,
    "start_time": "2025-04-01T10:08:24.515Z"
   },
   {
    "duration": 287,
    "start_time": "2025-04-01T10:08:28.719Z"
   },
   {
    "duration": 319,
    "start_time": "2025-04-01T10:08:29.007Z"
   },
   {
    "duration": 35,
    "start_time": "2025-04-01T10:08:29.327Z"
   },
   {
    "duration": 55,
    "start_time": "2025-04-01T10:08:29.364Z"
   },
   {
    "duration": 186,
    "start_time": "2025-04-01T10:08:29.420Z"
   },
   {
    "duration": 107,
    "start_time": "2025-04-01T10:08:29.609Z"
   },
   {
    "duration": 105,
    "start_time": "2025-04-01T10:08:29.720Z"
   },
   {
    "duration": 15,
    "start_time": "2025-04-01T10:08:29.826Z"
   },
   {
    "duration": 87,
    "start_time": "2025-04-01T10:08:29.842Z"
   },
   {
    "duration": 5,
    "start_time": "2025-04-01T10:08:29.931Z"
   },
   {
    "duration": 5,
    "start_time": "2025-04-01T10:08:29.939Z"
   },
   {
    "duration": 21,
    "start_time": "2025-04-01T10:08:29.946Z"
   },
   {
    "duration": 117,
    "start_time": "2025-04-01T10:08:29.968Z"
   },
   {
    "duration": 0,
    "start_time": "2025-04-01T10:08:30.087Z"
   },
   {
    "duration": 18,
    "start_time": "2025-04-01T10:13:16.118Z"
   },
   {
    "duration": 16,
    "start_time": "2025-04-01T10:15:17.453Z"
   },
   {
    "duration": 1846068,
    "start_time": "2025-04-01T10:15:34.098Z"
   },
   {
    "duration": 2450,
    "start_time": "2025-04-01T10:46:29.233Z"
   },
   {
    "duration": 1460,
    "start_time": "2025-04-01T10:46:31.686Z"
   },
   {
    "duration": 169,
    "start_time": "2025-04-01T10:46:33.148Z"
   },
   {
    "duration": 15,
    "start_time": "2025-04-01T10:46:33.319Z"
   },
   {
    "duration": 143,
    "start_time": "2025-04-01T10:46:33.337Z"
   },
   {
    "duration": 23,
    "start_time": "2025-04-01T10:46:33.482Z"
   },
   {
    "duration": 169,
    "start_time": "2025-04-01T10:46:33.507Z"
   },
   {
    "duration": 15,
    "start_time": "2025-04-01T10:46:33.677Z"
   },
   {
    "duration": 140,
    "start_time": "2025-04-01T10:46:33.693Z"
   },
   {
    "duration": 12,
    "start_time": "2025-04-01T10:46:33.835Z"
   },
   {
    "duration": 3478,
    "start_time": "2025-04-01T10:46:33.849Z"
   },
   {
    "duration": 292,
    "start_time": "2025-04-01T10:46:37.328Z"
   },
   {
    "duration": 320,
    "start_time": "2025-04-01T10:46:37.621Z"
   },
   {
    "duration": 3666,
    "start_time": "2025-04-01T10:46:37.945Z"
   },
   {
    "duration": 282,
    "start_time": "2025-04-01T10:46:41.613Z"
   },
   {
    "duration": 324,
    "start_time": "2025-04-01T10:46:41.897Z"
   },
   {
    "duration": 4197,
    "start_time": "2025-04-01T10:46:42.222Z"
   },
   {
    "duration": 285,
    "start_time": "2025-04-01T10:46:46.421Z"
   },
   {
    "duration": 326,
    "start_time": "2025-04-01T10:46:46.708Z"
   },
   {
    "duration": 32,
    "start_time": "2025-04-01T10:46:47.036Z"
   },
   {
    "duration": 87,
    "start_time": "2025-04-01T10:46:47.070Z"
   },
   {
    "duration": 153,
    "start_time": "2025-04-01T10:46:47.159Z"
   },
   {
    "duration": 197,
    "start_time": "2025-04-01T10:46:47.314Z"
   },
   {
    "duration": 16,
    "start_time": "2025-04-01T10:46:47.512Z"
   },
   {
    "duration": 15,
    "start_time": "2025-04-01T10:46:47.530Z"
   },
   {
    "duration": 6,
    "start_time": "2025-04-01T10:46:47.547Z"
   },
   {
    "duration": 5,
    "start_time": "2025-04-01T10:46:47.555Z"
   },
   {
    "duration": 49,
    "start_time": "2025-04-01T10:46:47.561Z"
   },
   {
    "duration": 31,
    "start_time": "2025-04-01T10:46:47.612Z"
   },
   {
    "duration": 26,
    "start_time": "2025-04-01T10:46:47.645Z"
   },
   {
    "duration": 26563,
    "start_time": "2025-04-01T10:46:47.672Z"
   },
   {
    "duration": 3410,
    "start_time": "2025-04-02T08:48:35.363Z"
   },
   {
    "duration": 2522,
    "start_time": "2025-04-02T08:48:38.776Z"
   },
   {
    "duration": 153,
    "start_time": "2025-04-02T08:48:41.300Z"
   },
   {
    "duration": 16,
    "start_time": "2025-04-02T08:48:41.454Z"
   },
   {
    "duration": 145,
    "start_time": "2025-04-02T08:48:41.473Z"
   },
   {
    "duration": 14,
    "start_time": "2025-04-02T08:48:41.620Z"
   },
   {
    "duration": 145,
    "start_time": "2025-04-02T08:48:41.635Z"
   },
   {
    "duration": 14,
    "start_time": "2025-04-02T08:48:41.782Z"
   },
   {
    "duration": 153,
    "start_time": "2025-04-02T08:48:41.805Z"
   },
   {
    "duration": 12,
    "start_time": "2025-04-02T08:48:41.959Z"
   },
   {
    "duration": 3384,
    "start_time": "2025-04-02T08:48:41.973Z"
   },
   {
    "duration": 292,
    "start_time": "2025-04-02T08:48:45.358Z"
   },
   {
    "duration": 323,
    "start_time": "2025-04-02T08:48:45.652Z"
   },
   {
    "duration": 3738,
    "start_time": "2025-04-02T08:48:45.979Z"
   },
   {
    "duration": 289,
    "start_time": "2025-04-02T08:48:49.718Z"
   },
   {
    "duration": 312,
    "start_time": "2025-04-02T08:48:50.008Z"
   },
   {
    "duration": 4094,
    "start_time": "2025-04-02T08:48:50.322Z"
   },
   {
    "duration": 288,
    "start_time": "2025-04-02T08:48:54.418Z"
   },
   {
    "duration": 324,
    "start_time": "2025-04-02T08:48:54.708Z"
   },
   {
    "duration": 40,
    "start_time": "2025-04-02T08:48:55.034Z"
   },
   {
    "duration": 56,
    "start_time": "2025-04-02T08:48:55.076Z"
   },
   {
    "duration": 284,
    "start_time": "2025-04-02T08:48:55.134Z"
   },
   {
    "duration": 104,
    "start_time": "2025-04-02T08:48:55.506Z"
   },
   {
    "duration": 18,
    "start_time": "2025-04-02T08:48:55.611Z"
   },
   {
    "duration": 17,
    "start_time": "2025-04-02T08:48:55.630Z"
   },
   {
    "duration": 4,
    "start_time": "2025-04-02T08:48:55.649Z"
   },
   {
    "duration": 8,
    "start_time": "2025-04-02T08:48:55.655Z"
   },
   {
    "duration": 7,
    "start_time": "2025-04-02T08:48:55.706Z"
   },
   {
    "duration": 110,
    "start_time": "2025-04-02T08:48:55.715Z"
   },
   {
    "duration": 18,
    "start_time": "2025-04-02T08:48:55.827Z"
   },
   {
    "duration": 45354,
    "start_time": "2025-04-02T08:48:55.847Z"
   },
   {
    "duration": 2442,
    "start_time": "2025-04-02T09:24:05.461Z"
   },
   {
    "duration": 1431,
    "start_time": "2025-04-02T09:24:07.906Z"
   },
   {
    "duration": 162,
    "start_time": "2025-04-02T09:24:09.338Z"
   },
   {
    "duration": 16,
    "start_time": "2025-04-02T09:24:09.502Z"
   },
   {
    "duration": 142,
    "start_time": "2025-04-02T09:24:09.520Z"
   },
   {
    "duration": 14,
    "start_time": "2025-04-02T09:24:09.663Z"
   },
   {
    "duration": 145,
    "start_time": "2025-04-02T09:24:09.679Z"
   },
   {
    "duration": 19,
    "start_time": "2025-04-02T09:24:09.825Z"
   },
   {
    "duration": 140,
    "start_time": "2025-04-02T09:24:09.846Z"
   },
   {
    "duration": 23,
    "start_time": "2025-04-02T09:24:09.989Z"
   },
   {
    "duration": 3451,
    "start_time": "2025-04-02T09:24:10.014Z"
   },
   {
    "duration": 340,
    "start_time": "2025-04-02T09:24:13.467Z"
   },
   {
    "duration": 333,
    "start_time": "2025-04-02T09:24:13.808Z"
   },
   {
    "duration": 3665,
    "start_time": "2025-04-02T09:24:14.143Z"
   },
   {
    "duration": 296,
    "start_time": "2025-04-02T09:24:17.810Z"
   },
   {
    "duration": 319,
    "start_time": "2025-04-02T09:24:18.107Z"
   },
   {
    "duration": 4175,
    "start_time": "2025-04-02T09:24:18.427Z"
   },
   {
    "duration": 281,
    "start_time": "2025-04-02T09:24:22.606Z"
   },
   {
    "duration": 347,
    "start_time": "2025-04-02T09:24:22.888Z"
   },
   {
    "duration": 33,
    "start_time": "2025-04-02T09:24:23.237Z"
   },
   {
    "duration": 51,
    "start_time": "2025-04-02T09:24:23.272Z"
   },
   {
    "duration": 182,
    "start_time": "2025-04-02T09:24:23.324Z"
   },
   {
    "duration": 108,
    "start_time": "2025-04-02T09:24:23.508Z"
   },
   {
    "duration": 15,
    "start_time": "2025-04-02T09:24:23.617Z"
   },
   {
    "duration": 15,
    "start_time": "2025-04-02T09:24:23.633Z"
   },
   {
    "duration": 2,
    "start_time": "2025-04-02T09:24:23.649Z"
   },
   {
    "duration": 6,
    "start_time": "2025-04-02T09:24:23.653Z"
   },
   {
    "duration": 45,
    "start_time": "2025-04-02T09:24:23.661Z"
   },
   {
    "duration": 21,
    "start_time": "2025-04-02T09:24:23.708Z"
   },
   {
    "duration": 16,
    "start_time": "2025-04-02T09:24:23.731Z"
   },
   {
    "duration": 2215,
    "start_time": "2025-04-02T09:24:23.749Z"
   }
  ],
  "kernelspec": {
   "display_name": "Python 3 (ipykernel)",
   "language": "python",
   "name": "python3"
  },
  "language_info": {
   "codemirror_mode": {
    "name": "ipython",
    "version": 3
   },
   "file_extension": ".py",
   "mimetype": "text/x-python",
   "name": "python",
   "nbconvert_exporter": "python",
   "pygments_lexer": "ipython3",
   "version": "3.9.5"
  },
  "toc": {
   "base_numbering": 1,
   "nav_menu": {},
   "number_sections": true,
   "sideBar": true,
   "skip_h1_title": true,
   "title_cell": "Table of Contents",
   "title_sidebar": "Contents",
   "toc_cell": false,
   "toc_position": {
    "height": "calc(100% - 180px)",
    "left": "10px",
    "top": "150px",
    "width": "252.583px"
   },
   "toc_section_display": true,
   "toc_window_display": true
  }
 },
 "nbformat": 4,
 "nbformat_minor": 2
}
